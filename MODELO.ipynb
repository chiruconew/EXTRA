{
  "nbformat": 4,
  "nbformat_minor": 0,
  "metadata": {
    "colab": {
      "name": "MODELO.ipynb",
      "provenance": [],
      "authorship_tag": "ABX9TyNKgPRhZspWY3LqNKnGDDL4",
      "include_colab_link": true
    },
    "kernelspec": {
      "name": "python3",
      "display_name": "Python 3"
    },
    "language_info": {
      "name": "python"
    }
  },
  "cells": [
    {
      "cell_type": "markdown",
      "metadata": {
        "id": "view-in-github",
        "colab_type": "text"
      },
      "source": [
        "<a href=\"https://colab.research.google.com/github/chiruconew/EXTRA/blob/main/MODELO.ipynb\" target=\"_parent\"><img src=\"https://colab.research.google.com/assets/colab-badge.svg\" alt=\"Open In Colab\"/></a>"
      ]
    },
    {
      "cell_type": "markdown",
      "metadata": {
        "id": "k-JSIKLVhzuu"
      },
      "source": [
        "### 1. CARGA DEL DATA SET Y CARGA DE LIBRERIAS INICIALES"
      ]
    },
    {
      "cell_type": "code",
      "metadata": {
        "id": "aIEgsbNOh1_r"
      },
      "source": [
        "import pandas as pd\n",
        "import numpy as np\n",
        "import matplotlib.pyplot as plt\n",
        "import seaborn as sns\n",
        "import plotly.express as px\n",
        "import plotly.graph_objects as go"
      ],
      "execution_count": 121,
      "outputs": []
    },
    {
      "cell_type": "code",
      "metadata": {
        "id": "uSVJRarxiKi7"
      },
      "source": [
        "url = 'https://raw.githubusercontent.com/chiruconew/EXTRA/main/data_set_dg.csv'\n",
        "df  = pd.read_csv(url)"
      ],
      "execution_count": 122,
      "outputs": []
    },
    {
      "cell_type": "code",
      "metadata": {
        "colab": {
          "base_uri": "https://localhost:8080/",
          "height": 267
        },
        "id": "CzQOS_oCiWsD",
        "outputId": "af6263de-5b14-455a-f366-d279b1e235e2"
      },
      "source": [
        "df.head()"
      ],
      "execution_count": 123,
      "outputs": [
        {
          "output_type": "execute_result",
          "data": {
            "text/html": [
              "<div>\n",
              "<style scoped>\n",
              "    .dataframe tbody tr th:only-of-type {\n",
              "        vertical-align: middle;\n",
              "    }\n",
              "\n",
              "    .dataframe tbody tr th {\n",
              "        vertical-align: top;\n",
              "    }\n",
              "\n",
              "    .dataframe thead th {\n",
              "        text-align: right;\n",
              "    }\n",
              "</style>\n",
              "<table border=\"1\" class=\"dataframe\">\n",
              "  <thead>\n",
              "    <tr style=\"text-align: right;\">\n",
              "      <th></th>\n",
              "      <th>TELEFONO</th>\n",
              "      <th>CUOTA_BASICA</th>\n",
              "      <th>TIPO_PRODUCTO</th>\n",
              "      <th>CAPACIDAD_PLAN_DATOS</th>\n",
              "      <th>NIT</th>\n",
              "      <th>ANEXOS_HOME</th>\n",
              "      <th>ANEXOS_MOBILE</th>\n",
              "      <th>MESES_CLIENTE_ANTIGUEDAD</th>\n",
              "      <th>MESES_CONTRATO</th>\n",
              "      <th>DEPARTAMENTO_GUATEMALA</th>\n",
              "      <th>INICIO_DE_CONTRATO</th>\n",
              "      <th>SUBSIDIO</th>\n",
              "      <th>PAGO_DEVICE_CLIENTE</th>\n",
              "      <th>PROMEDIO_CONSUMO_DATOS_GB</th>\n",
              "      <th>CONSUMO_PORCENT_CUOTA</th>\n",
              "      <th>FACTURAS_PAGADAS_EN_TIEMPO</th>\n",
              "      <th>FACTURAS_PAGADAS_TARDE</th>\n",
              "      <th>CANTIDAD_ABONOS_PARA_PAGAR_AVG</th>\n",
              "      <th>AVG_DIAS_PAGO_A_TIEMPO</th>\n",
              "      <th>AVG_DIAS_PAGO_TARDE</th>\n",
              "      <th>DOWNSELL</th>\n",
              "    </tr>\n",
              "  </thead>\n",
              "  <tbody>\n",
              "    <tr>\n",
              "      <th>0</th>\n",
              "      <td>52017983</td>\n",
              "      <td>198.9904</td>\n",
              "      <td>C</td>\n",
              "      <td>5</td>\n",
              "      <td>153912-4</td>\n",
              "      <td>0.0</td>\n",
              "      <td>1.0</td>\n",
              "      <td>246.0</td>\n",
              "      <td>18.0</td>\n",
              "      <td>GUATEMALA</td>\n",
              "      <td>06-OCT-16 00:00:00</td>\n",
              "      <td>NaN</td>\n",
              "      <td>NaN</td>\n",
              "      <td>1.0</td>\n",
              "      <td>0.18</td>\n",
              "      <td>0.0</td>\n",
              "      <td>10.0</td>\n",
              "      <td>1.0</td>\n",
              "      <td>0.0</td>\n",
              "      <td>-4.0</td>\n",
              "      <td>NO</td>\n",
              "    </tr>\n",
              "    <tr>\n",
              "      <th>1</th>\n",
              "      <td>55287011</td>\n",
              "      <td>499.0048</td>\n",
              "      <td>C</td>\n",
              "      <td>20</td>\n",
              "      <td>4930230-2</td>\n",
              "      <td>3.0</td>\n",
              "      <td>2.0</td>\n",
              "      <td>200.0</td>\n",
              "      <td>24.0</td>\n",
              "      <td>ESCUINTLA</td>\n",
              "      <td>07-JAN-19 00:00:00</td>\n",
              "      <td>3042.17</td>\n",
              "      <td>1607.14</td>\n",
              "      <td>10.0</td>\n",
              "      <td>0.51</td>\n",
              "      <td>8.0</td>\n",
              "      <td>2.0</td>\n",
              "      <td>1.0</td>\n",
              "      <td>2.0</td>\n",
              "      <td>-1.0</td>\n",
              "      <td>NO</td>\n",
              "    </tr>\n",
              "    <tr>\n",
              "      <th>2</th>\n",
              "      <td>53187495</td>\n",
              "      <td>298.9952</td>\n",
              "      <td>C</td>\n",
              "      <td>15</td>\n",
              "      <td>1199130-5</td>\n",
              "      <td>0.0</td>\n",
              "      <td>3.0</td>\n",
              "      <td>98.0</td>\n",
              "      <td>24.0</td>\n",
              "      <td>GUATEMALA</td>\n",
              "      <td>03-JAN-20 00:00:00</td>\n",
              "      <td>1237.57</td>\n",
              "      <td>207.36</td>\n",
              "      <td>5.0</td>\n",
              "      <td>0.33</td>\n",
              "      <td>10.0</td>\n",
              "      <td>0.0</td>\n",
              "      <td>1.0</td>\n",
              "      <td>8.0</td>\n",
              "      <td>0.0</td>\n",
              "      <td>NO</td>\n",
              "    </tr>\n",
              "    <tr>\n",
              "      <th>3</th>\n",
              "      <td>57813259</td>\n",
              "      <td>224.9968</td>\n",
              "      <td>Q</td>\n",
              "      <td>14</td>\n",
              "      <td>87103923</td>\n",
              "      <td>0.0</td>\n",
              "      <td>1.0</td>\n",
              "      <td>39.0</td>\n",
              "      <td>0.0</td>\n",
              "      <td>SOLOLA</td>\n",
              "      <td>21-AUG-20 00:00:00</td>\n",
              "      <td>NaN</td>\n",
              "      <td>NaN</td>\n",
              "      <td>18.0</td>\n",
              "      <td>1.29</td>\n",
              "      <td>4.0</td>\n",
              "      <td>4.0</td>\n",
              "      <td>1.0</td>\n",
              "      <td>17.0</td>\n",
              "      <td>-18.0</td>\n",
              "      <td>NO</td>\n",
              "    </tr>\n",
              "    <tr>\n",
              "      <th>4</th>\n",
              "      <td>40152016</td>\n",
              "      <td>298.9952</td>\n",
              "      <td>C</td>\n",
              "      <td>15</td>\n",
              "      <td>1526520-K</td>\n",
              "      <td>0.0</td>\n",
              "      <td>1.0</td>\n",
              "      <td>16.0</td>\n",
              "      <td>24.0</td>\n",
              "      <td>SAN MARCOS</td>\n",
              "      <td>15-NOV-19 00:00:00</td>\n",
              "      <td>1441.82</td>\n",
              "      <td>0.90</td>\n",
              "      <td>8.0</td>\n",
              "      <td>0.50</td>\n",
              "      <td>6.0</td>\n",
              "      <td>4.0</td>\n",
              "      <td>2.0</td>\n",
              "      <td>18.0</td>\n",
              "      <td>-5.0</td>\n",
              "      <td>NO</td>\n",
              "    </tr>\n",
              "  </tbody>\n",
              "</table>\n",
              "</div>"
            ],
            "text/plain": [
              "   TELEFONO  CUOTA_BASICA  ... AVG_DIAS_PAGO_TARDE  DOWNSELL\n",
              "0  52017983      198.9904  ...                -4.0        NO\n",
              "1  55287011      499.0048  ...                -1.0        NO\n",
              "2  53187495      298.9952  ...                 0.0        NO\n",
              "3  57813259      224.9968  ...               -18.0        NO\n",
              "4  40152016      298.9952  ...                -5.0        NO\n",
              "\n",
              "[5 rows x 21 columns]"
            ]
          },
          "metadata": {
            "tags": []
          },
          "execution_count": 123
        }
      ]
    },
    {
      "cell_type": "code",
      "metadata": {
        "colab": {
          "base_uri": "https://localhost:8080/"
        },
        "id": "i7ssQX-AF1Rn",
        "outputId": "3efd1ea8-3ad2-49e2-db59-ee80500fd8e7"
      },
      "source": [
        "df.info()"
      ],
      "execution_count": 124,
      "outputs": [
        {
          "output_type": "stream",
          "text": [
            "<class 'pandas.core.frame.DataFrame'>\n",
            "RangeIndex: 18032 entries, 0 to 18031\n",
            "Data columns (total 21 columns):\n",
            " #   Column                          Non-Null Count  Dtype  \n",
            "---  ------                          --------------  -----  \n",
            " 0   TELEFONO                        18032 non-null  int64  \n",
            " 1   CUOTA_BASICA                    18032 non-null  float64\n",
            " 2   TIPO_PRODUCTO                   18032 non-null  object \n",
            " 3   CAPACIDAD_PLAN_DATOS            18032 non-null  int64  \n",
            " 4   NIT                             18032 non-null  object \n",
            " 5   ANEXOS_HOME                     13008 non-null  float64\n",
            " 6   ANEXOS_MOBILE                   13008 non-null  float64\n",
            " 7   MESES_CLIENTE_ANTIGUEDAD        17468 non-null  float64\n",
            " 8   MESES_CONTRATO                  17468 non-null  float64\n",
            " 9   DEPARTAMENTO_GUATEMALA          17468 non-null  object \n",
            " 10  INICIO_DE_CONTRATO              17468 non-null  object \n",
            " 11  SUBSIDIO                        13852 non-null  float64\n",
            " 12  PAGO_DEVICE_CLIENTE             13852 non-null  float64\n",
            " 13  PROMEDIO_CONSUMO_DATOS_GB       18018 non-null  float64\n",
            " 14  CONSUMO_PORCENT_CUOTA           18018 non-null  float64\n",
            " 15  FACTURAS_PAGADAS_EN_TIEMPO      18014 non-null  float64\n",
            " 16  FACTURAS_PAGADAS_TARDE          18014 non-null  float64\n",
            " 17  CANTIDAD_ABONOS_PARA_PAGAR_AVG  18014 non-null  float64\n",
            " 18  AVG_DIAS_PAGO_A_TIEMPO          18014 non-null  float64\n",
            " 19  AVG_DIAS_PAGO_TARDE             18014 non-null  float64\n",
            " 20  DOWNSELL                        18032 non-null  object \n",
            "dtypes: float64(14), int64(2), object(5)\n",
            "memory usage: 2.9+ MB\n"
          ],
          "name": "stdout"
        }
      ]
    },
    {
      "cell_type": "markdown",
      "metadata": {
        "id": "K_iuj_cFpA1L"
      },
      "source": [
        "**BORRAMOS LOS NA**"
      ]
    },
    {
      "cell_type": "code",
      "metadata": {
        "id": "nZnbznKZicfd"
      },
      "source": [
        "df_recortado = df.dropna()"
      ],
      "execution_count": 125,
      "outputs": []
    },
    {
      "cell_type": "markdown",
      "metadata": {
        "id": "LzbGdPFCHily"
      },
      "source": [
        "**Deteccion y Eliminacion de Outliers**"
      ]
    },
    {
      "cell_type": "code",
      "metadata": {
        "colab": {
          "base_uri": "https://localhost:8080/",
          "height": 307
        },
        "id": "phK-aBvcGLqI",
        "outputId": "8cc47014-2b9b-4cc1-d8de-129565de180d"
      },
      "source": [
        "df_recortado.describe()"
      ],
      "execution_count": 126,
      "outputs": [
        {
          "output_type": "execute_result",
          "data": {
            "text/html": [
              "<div>\n",
              "<style scoped>\n",
              "    .dataframe tbody tr th:only-of-type {\n",
              "        vertical-align: middle;\n",
              "    }\n",
              "\n",
              "    .dataframe tbody tr th {\n",
              "        vertical-align: top;\n",
              "    }\n",
              "\n",
              "    .dataframe thead th {\n",
              "        text-align: right;\n",
              "    }\n",
              "</style>\n",
              "<table border=\"1\" class=\"dataframe\">\n",
              "  <thead>\n",
              "    <tr style=\"text-align: right;\">\n",
              "      <th></th>\n",
              "      <th>TELEFONO</th>\n",
              "      <th>CUOTA_BASICA</th>\n",
              "      <th>CAPACIDAD_PLAN_DATOS</th>\n",
              "      <th>ANEXOS_HOME</th>\n",
              "      <th>ANEXOS_MOBILE</th>\n",
              "      <th>MESES_CLIENTE_ANTIGUEDAD</th>\n",
              "      <th>MESES_CONTRATO</th>\n",
              "      <th>SUBSIDIO</th>\n",
              "      <th>PAGO_DEVICE_CLIENTE</th>\n",
              "      <th>PROMEDIO_CONSUMO_DATOS_GB</th>\n",
              "      <th>CONSUMO_PORCENT_CUOTA</th>\n",
              "      <th>FACTURAS_PAGADAS_EN_TIEMPO</th>\n",
              "      <th>FACTURAS_PAGADAS_TARDE</th>\n",
              "      <th>CANTIDAD_ABONOS_PARA_PAGAR_AVG</th>\n",
              "      <th>AVG_DIAS_PAGO_A_TIEMPO</th>\n",
              "      <th>AVG_DIAS_PAGO_TARDE</th>\n",
              "    </tr>\n",
              "  </thead>\n",
              "  <tbody>\n",
              "    <tr>\n",
              "      <th>count</th>\n",
              "      <td>1.015700e+04</td>\n",
              "      <td>10157.000000</td>\n",
              "      <td>10157.000000</td>\n",
              "      <td>10157.000000</td>\n",
              "      <td>10157.000000</td>\n",
              "      <td>10157.000000</td>\n",
              "      <td>10157.000000</td>\n",
              "      <td>10157.000000</td>\n",
              "      <td>10157.000000</td>\n",
              "      <td>10157.000000</td>\n",
              "      <td>10157.000000</td>\n",
              "      <td>10157.000000</td>\n",
              "      <td>10157.000000</td>\n",
              "      <td>10157.000000</td>\n",
              "      <td>10157.000000</td>\n",
              "      <td>10157.000000</td>\n",
              "    </tr>\n",
              "    <tr>\n",
              "      <th>mean</th>\n",
              "      <td>4.548819e+07</td>\n",
              "      <td>472.932098</td>\n",
              "      <td>23.733090</td>\n",
              "      <td>0.883332</td>\n",
              "      <td>3.134489</td>\n",
              "      <td>116.457025</td>\n",
              "      <td>22.339470</td>\n",
              "      <td>2574.829244</td>\n",
              "      <td>983.451752</td>\n",
              "      <td>14.381018</td>\n",
              "      <td>0.676460</td>\n",
              "      <td>6.370385</td>\n",
              "      <td>3.453087</td>\n",
              "      <td>1.181451</td>\n",
              "      <td>9.918972</td>\n",
              "      <td>-3.286699</td>\n",
              "    </tr>\n",
              "    <tr>\n",
              "      <th>std</th>\n",
              "      <td>9.781400e+06</td>\n",
              "      <td>213.122423</td>\n",
              "      <td>14.728745</td>\n",
              "      <td>5.787397</td>\n",
              "      <td>49.861048</td>\n",
              "      <td>103.561452</td>\n",
              "      <td>2.751016</td>\n",
              "      <td>1990.478584</td>\n",
              "      <td>1680.415196</td>\n",
              "      <td>10.357149</td>\n",
              "      <td>0.424278</td>\n",
              "      <td>3.900478</td>\n",
              "      <td>3.689090</td>\n",
              "      <td>0.404848</td>\n",
              "      <td>8.314043</td>\n",
              "      <td>6.151343</td>\n",
              "    </tr>\n",
              "    <tr>\n",
              "      <th>min</th>\n",
              "      <td>3.000016e+07</td>\n",
              "      <td>98.996800</td>\n",
              "      <td>1.000000</td>\n",
              "      <td>0.000000</td>\n",
              "      <td>1.000000</td>\n",
              "      <td>2.000000</td>\n",
              "      <td>0.000000</td>\n",
              "      <td>-8879.250000</td>\n",
              "      <td>-8212.500000</td>\n",
              "      <td>0.000000</td>\n",
              "      <td>0.000000</td>\n",
              "      <td>0.000000</td>\n",
              "      <td>0.000000</td>\n",
              "      <td>1.000000</td>\n",
              "      <td>0.000000</td>\n",
              "      <td>-166.000000</td>\n",
              "    </tr>\n",
              "    <tr>\n",
              "      <th>25%</th>\n",
              "      <td>3.712187e+07</td>\n",
              "      <td>298.995200</td>\n",
              "      <td>15.000000</td>\n",
              "      <td>0.000000</td>\n",
              "      <td>1.000000</td>\n",
              "      <td>48.000000</td>\n",
              "      <td>18.000000</td>\n",
              "      <td>1385.730000</td>\n",
              "      <td>0.890000</td>\n",
              "      <td>7.000000</td>\n",
              "      <td>0.360000</td>\n",
              "      <td>3.000000</td>\n",
              "      <td>0.000000</td>\n",
              "      <td>1.000000</td>\n",
              "      <td>3.000000</td>\n",
              "      <td>-4.000000</td>\n",
              "    </tr>\n",
              "    <tr>\n",
              "      <th>50%</th>\n",
              "      <td>4.843955e+07</td>\n",
              "      <td>399.000000</td>\n",
              "      <td>20.000000</td>\n",
              "      <td>0.000000</td>\n",
              "      <td>1.000000</td>\n",
              "      <td>100.000000</td>\n",
              "      <td>24.000000</td>\n",
              "      <td>1890.520000</td>\n",
              "      <td>133.040000</td>\n",
              "      <td>12.000000</td>\n",
              "      <td>0.660000</td>\n",
              "      <td>7.000000</td>\n",
              "      <td>2.000000</td>\n",
              "      <td>1.000000</td>\n",
              "      <td>8.000000</td>\n",
              "      <td>-2.000000</td>\n",
              "    </tr>\n",
              "    <tr>\n",
              "      <th>75%</th>\n",
              "      <td>5.308374e+07</td>\n",
              "      <td>598.998400</td>\n",
              "      <td>30.000000</td>\n",
              "      <td>0.000000</td>\n",
              "      <td>2.000000</td>\n",
              "      <td>161.000000</td>\n",
              "      <td>24.000000</td>\n",
              "      <td>3617.410000</td>\n",
              "      <td>1383.040000</td>\n",
              "      <td>19.000000</td>\n",
              "      <td>0.930000</td>\n",
              "      <td>9.000000</td>\n",
              "      <td>7.000000</td>\n",
              "      <td>1.000000</td>\n",
              "      <td>16.000000</td>\n",
              "      <td>0.000000</td>\n",
              "    </tr>\n",
              "    <tr>\n",
              "      <th>max</th>\n",
              "      <td>5.999998e+07</td>\n",
              "      <td>1498.000000</td>\n",
              "      <td>70.000000</td>\n",
              "      <td>386.000000</td>\n",
              "      <td>3234.000000</td>\n",
              "      <td>1475.000000</td>\n",
              "      <td>24.000000</td>\n",
              "      <td>13266.570000</td>\n",
              "      <td>9496.860000</td>\n",
              "      <td>104.000000</td>\n",
              "      <td>6.960000</td>\n",
              "      <td>54.000000</td>\n",
              "      <td>56.000000</td>\n",
              "      <td>9.000000</td>\n",
              "      <td>169.000000</td>\n",
              "      <td>0.000000</td>\n",
              "    </tr>\n",
              "  </tbody>\n",
              "</table>\n",
              "</div>"
            ],
            "text/plain": [
              "           TELEFONO  CUOTA_BASICA  ...  AVG_DIAS_PAGO_A_TIEMPO  AVG_DIAS_PAGO_TARDE\n",
              "count  1.015700e+04  10157.000000  ...            10157.000000         10157.000000\n",
              "mean   4.548819e+07    472.932098  ...                9.918972            -3.286699\n",
              "std    9.781400e+06    213.122423  ...                8.314043             6.151343\n",
              "min    3.000016e+07     98.996800  ...                0.000000          -166.000000\n",
              "25%    3.712187e+07    298.995200  ...                3.000000            -4.000000\n",
              "50%    4.843955e+07    399.000000  ...                8.000000            -2.000000\n",
              "75%    5.308374e+07    598.998400  ...               16.000000             0.000000\n",
              "max    5.999998e+07   1498.000000  ...              169.000000             0.000000\n",
              "\n",
              "[8 rows x 16 columns]"
            ]
          },
          "metadata": {
            "tags": []
          },
          "execution_count": 126
        }
      ]
    },
    {
      "cell_type": "code",
      "metadata": {
        "colab": {
          "base_uri": "https://localhost:8080/",
          "height": 1000
        },
        "id": "QERjdARHGc-4",
        "outputId": "6db314a9-5b34-48ae-b3de-f5d9645087b0"
      },
      "source": [
        "df_recortado.plot.kde(subplots=True, figsize=(10,40), sharex=False)"
      ],
      "execution_count": 127,
      "outputs": [
        {
          "output_type": "execute_result",
          "data": {
            "text/plain": [
              "array([<matplotlib.axes._subplots.AxesSubplot object at 0x7fc2bccd2e90>,\n",
              "       <matplotlib.axes._subplots.AxesSubplot object at 0x7fc2bcd74e10>,\n",
              "       <matplotlib.axes._subplots.AxesSubplot object at 0x7fc2bcd4f4d0>,\n",
              "       <matplotlib.axes._subplots.AxesSubplot object at 0x7fc2bca4ab50>,\n",
              "       <matplotlib.axes._subplots.AxesSubplot object at 0x7fc2bcab0210>,\n",
              "       <matplotlib.axes._subplots.AxesSubplot object at 0x7fc2bcbd2890>,\n",
              "       <matplotlib.axes._subplots.AxesSubplot object at 0x7fc2bcc12f90>,\n",
              "       <matplotlib.axes._subplots.AxesSubplot object at 0x7fc2bcb00510>,\n",
              "       <matplotlib.axes._subplots.AxesSubplot object at 0x7fc2bcb00550>,\n",
              "       <matplotlib.axes._subplots.AxesSubplot object at 0x7fc2ad48dcd0>,\n",
              "       <matplotlib.axes._subplots.AxesSubplot object at 0x7fc2ad480910>,\n",
              "       <matplotlib.axes._subplots.AxesSubplot object at 0x7fc2ad432f90>,\n",
              "       <matplotlib.axes._subplots.AxesSubplot object at 0x7fc2ad3f1650>,\n",
              "       <matplotlib.axes._subplots.AxesSubplot object at 0x7fc2ad3a4cd0>,\n",
              "       <matplotlib.axes._subplots.AxesSubplot object at 0x7fc2ad364390>,\n",
              "       <matplotlib.axes._subplots.AxesSubplot object at 0x7fc2ad317a10>],\n",
              "      dtype=object)"
            ]
          },
          "metadata": {
            "tags": []
          },
          "execution_count": 127
        },
        {
          "output_type": "display_data",
          "data": {
            "image/png": "[encoded data removed]",
            "text/plain": [
              "<Figure size 720x2880 with 16 Axes>"
            ]
          },
          "metadata": {
            "tags": [],
            "needs_background": "light"
          }
        }
      ]
    },
    {
      "cell_type": "markdown",
      "metadata": {
        "id": "BetTpE3lHeRX"
      },
      "source": [
        ""
      ]
    },
    {
      "cell_type": "code",
      "metadata": {
        "id": "9czrFv0CGl1x"
      },
      "source": [
        "df_recortado = df_recortado[df_recortado['CAPACIDAD_PLAN_DATOS'] > 0]\n",
        "df_recortado = df_recortado[df_recortado['CUOTA_BASICA'] > 0]\n",
        "df_recortado = df_recortado[df_recortado['ANEXOS_HOME'] < 20]\n",
        "df_recortado = df_recortado[df_recortado['ANEXOS_MOBILE'] < 20]\n",
        "df_recortado = df_recortado[df_recortado['MESES_CLIENTE_ANTIGUEDAD'] < 400]\n",
        "df_recortado = df_recortado[df_recortado['MESES_CONTRATO'] > 0]"
      ],
      "execution_count": 128,
      "outputs": []
    },
    {
      "cell_type": "markdown",
      "metadata": {
        "id": "1I4qnaHEpFly"
      },
      "source": [
        "**CONVERTTIMOS LA CLASE EN NUMERICA**"
      ]
    },
    {
      "cell_type": "code",
      "metadata": {
        "id": "r7IZV7cci16z"
      },
      "source": [
        "df_recortado['DOWNSELL'].replace({\"NO\": 0, \"SI\": 1}, inplace=True)"
      ],
      "execution_count": 129,
      "outputs": []
    },
    {
      "cell_type": "code",
      "metadata": {
        "id": "X1YZF64mGYIg"
      },
      "source": [
        ""
      ],
      "execution_count": 129,
      "outputs": []
    },
    {
      "cell_type": "markdown",
      "metadata": {
        "id": "96qteEtdpQdk"
      },
      "source": [
        "**ELIMINAMOS LAS COLUMNAS TELEFONO, NIT, e INICIO_DE_CONTRATO**"
      ]
    },
    {
      "cell_type": "code",
      "metadata": {
        "id": "tm0xAQ_MoQ_d"
      },
      "source": [
        "df_recortado = df_recortado.drop(['TELEFONO','NIT','INICIO_DE_CONTRATO'], axis=1)"
      ],
      "execution_count": 130,
      "outputs": []
    },
    {
      "cell_type": "markdown",
      "metadata": {
        "id": "ZVVcNsh9pXt8"
      },
      "source": [
        "Revisamos como quedo el Data Set Inicial ya Limpio\n",
        "\n"
      ]
    },
    {
      "cell_type": "code",
      "metadata": {
        "colab": {
          "base_uri": "https://localhost:8080/"
        },
        "id": "88KyyiO_pYoM",
        "outputId": "a75ce181-531e-48bb-f055-b720317a9c3c"
      },
      "source": [
        "df_recortado.info()"
      ],
      "execution_count": 131,
      "outputs": [
        {
          "output_type": "stream",
          "text": [
            "<class 'pandas.core.frame.DataFrame'>\n",
            "Int64Index: 10105 entries, 1 to 17466\n",
            "Data columns (total 18 columns):\n",
            " #   Column                          Non-Null Count  Dtype  \n",
            "---  ------                          --------------  -----  \n",
            " 0   CUOTA_BASICA                    10105 non-null  float64\n",
            " 1   TIPO_PRODUCTO                   10105 non-null  object \n",
            " 2   CAPACIDAD_PLAN_DATOS            10105 non-null  int64  \n",
            " 3   ANEXOS_HOME                     10105 non-null  float64\n",
            " 4   ANEXOS_MOBILE                   10105 non-null  float64\n",
            " 5   MESES_CLIENTE_ANTIGUEDAD        10105 non-null  float64\n",
            " 6   MESES_CONTRATO                  10105 non-null  float64\n",
            " 7   DEPARTAMENTO_GUATEMALA          10105 non-null  object \n",
            " 8   SUBSIDIO                        10105 non-null  float64\n",
            " 9   PAGO_DEVICE_CLIENTE             10105 non-null  float64\n",
            " 10  PROMEDIO_CONSUMO_DATOS_GB       10105 non-null  float64\n",
            " 11  CONSUMO_PORCENT_CUOTA           10105 non-null  float64\n",
            " 12  FACTURAS_PAGADAS_EN_TIEMPO      10105 non-null  float64\n",
            " 13  FACTURAS_PAGADAS_TARDE          10105 non-null  float64\n",
            " 14  CANTIDAD_ABONOS_PARA_PAGAR_AVG  10105 non-null  float64\n",
            " 15  AVG_DIAS_PAGO_A_TIEMPO          10105 non-null  float64\n",
            " 16  AVG_DIAS_PAGO_TARDE             10105 non-null  float64\n",
            " 17  DOWNSELL                        10105 non-null  int64  \n",
            "dtypes: float64(14), int64(2), object(2)\n",
            "memory usage: 1.5+ MB\n"
          ],
          "name": "stdout"
        }
      ]
    },
    {
      "cell_type": "markdown",
      "metadata": {
        "id": "LvR7sMH8MQ1V"
      },
      "source": [
        "## PREPROCESING"
      ]
    },
    {
      "cell_type": "markdown",
      "metadata": {
        "id": "KiFk2-23McYY"
      },
      "source": [
        "**Utilizaremos ONE HOT ENCODER para la variable TIPO DE PRODUCTO**"
      ]
    },
    {
      "cell_type": "code",
      "metadata": {
        "colab": {
          "base_uri": "https://localhost:8080/"
        },
        "id": "cPeWZf52M7pC",
        "outputId": "d4584f5d-a811-4991-e58f-aaaab5a9454d"
      },
      "source": [
        "!pip install category_encoders"
      ],
      "execution_count": 132,
      "outputs": [
        {
          "output_type": "stream",
          "text": [
            "Requirement already satisfied: category_encoders in /usr/local/lib/python3.7/dist-packages (2.2.2)\n",
            "Requirement already satisfied: scipy>=1.0.0 in /usr/local/lib/python3.7/dist-packages (from category_encoders) (1.4.1)\n",
            "Requirement already satisfied: scikit-learn>=0.20.0 in /usr/local/lib/python3.7/dist-packages (from category_encoders) (0.22.2.post1)\n",
            "Requirement already satisfied: pandas>=0.21.1 in /usr/local/lib/python3.7/dist-packages (from category_encoders) (1.1.5)\n",
            "Requirement already satisfied: patsy>=0.5.1 in /usr/local/lib/python3.7/dist-packages (from category_encoders) (0.5.1)\n",
            "Requirement already satisfied: statsmodels>=0.9.0 in /usr/local/lib/python3.7/dist-packages (from category_encoders) (0.10.2)\n",
            "Requirement already satisfied: numpy>=1.14.0 in /usr/local/lib/python3.7/dist-packages (from category_encoders) (1.19.5)\n",
            "Requirement already satisfied: joblib>=0.11 in /usr/local/lib/python3.7/dist-packages (from scikit-learn>=0.20.0->category_encoders) (1.0.1)\n",
            "Requirement already satisfied: python-dateutil>=2.7.3 in /usr/local/lib/python3.7/dist-packages (from pandas>=0.21.1->category_encoders) (2.8.1)\n",
            "Requirement already satisfied: pytz>=2017.2 in /usr/local/lib/python3.7/dist-packages (from pandas>=0.21.1->category_encoders) (2018.9)\n",
            "Requirement already satisfied: six in /usr/local/lib/python3.7/dist-packages (from patsy>=0.5.1->category_encoders) (1.15.0)\n"
          ],
          "name": "stdout"
        }
      ]
    },
    {
      "cell_type": "code",
      "metadata": {
        "colab": {
          "base_uri": "https://localhost:8080/"
        },
        "id": "7ZlXAGRuMV97",
        "outputId": "c6048423-7d91-4812-c082-0c1712955ee0"
      },
      "source": [
        "from category_encoders import OneHotEncoder\n",
        "\n",
        "onehot_enc = OneHotEncoder( use_cat_names=True)\n",
        "df_train_tipoprod = onehot_enc.fit_transform(df_recortado['TIPO_PRODUCTO'])\n",
        "df_recortado = pd.concat([df_recortado, df_train_tipoprod], axis=1)\n",
        "\n",
        "df_recortado = df_recortado.drop(['TIPO_PRODUCTO'], axis=1)"
      ],
      "execution_count": 133,
      "outputs": [
        {
          "output_type": "stream",
          "text": [
            "/usr/local/lib/python3.7/dist-packages/category_encoders/utils.py:21: FutureWarning:\n",
            "\n",
            "is_categorical is deprecated and will be removed in a future version.  Use is_categorical_dtype instead\n",
            "\n"
          ],
          "name": "stderr"
        }
      ]
    },
    {
      "cell_type": "markdown",
      "metadata": {
        "id": "I4hvyPQIMnSj"
      },
      "source": [
        "**Utlilizamos en Frequency para el conteo de Departamentos**"
      ]
    },
    {
      "cell_type": "code",
      "metadata": {
        "id": "wFGR_nFrMr7m"
      },
      "source": [
        "from category_encoders import CountEncoder\n",
        "count_enc_depto = CountEncoder( combine_min_nan_groups=True, min_group_size=35,min_group_name='OTROS')\n",
        "df_recortado['DEPARTAMENTO_TRANS'] = count_enc_depto.fit_transform(df_recortado['DEPARTAMENTO_GUATEMALA'])\n",
        "df_recortado = df_recortado.drop(['DEPARTAMENTO_GUATEMALA'], axis=1)"
      ],
      "execution_count": 134,
      "outputs": []
    },
    {
      "cell_type": "markdown",
      "metadata": {
        "id": "hL_65jc3ugBK"
      },
      "source": [
        "**VAMOS A SEPARAR EN TRAIN Y TEST**"
      ]
    },
    {
      "cell_type": "markdown",
      "metadata": {
        "id": "4m9dieSTwCxw"
      },
      "source": [
        "Necesitamos convertir el dataframe en ARRAY DE NUMPY para poder utilizar la funcion de Stratify y partir un dataset Desbalanceado"
      ]
    },
    {
      "cell_type": "code",
      "metadata": {
        "id": "9g43qLsmmMXt"
      },
      "source": [
        "import numpy as np"
      ],
      "execution_count": 135,
      "outputs": []
    },
    {
      "cell_type": "code",
      "metadata": {
        "id": "xwuBKFBcwXvZ"
      },
      "source": [
        "from sklearn.model_selection import train_test_split"
      ],
      "execution_count": 136,
      "outputs": []
    },
    {
      "cell_type": "code",
      "metadata": {
        "id": "fpnwP03Byyvr"
      },
      "source": [
        "X_df =  df_recortado.drop(['DOWNSELL'], axis=1)"
      ],
      "execution_count": 137,
      "outputs": []
    },
    {
      "cell_type": "code",
      "metadata": {
        "id": "1CIdqPqKzAde"
      },
      "source": [
        "y_df = df_recortado['DOWNSELL']"
      ],
      "execution_count": 138,
      "outputs": []
    },
    {
      "cell_type": "code",
      "metadata": {
        "id": "GxaME3DAzPPF"
      },
      "source": [
        "X = X_df.to_numpy()\n",
        "y = y_df.to_numpy()"
      ],
      "execution_count": 139,
      "outputs": []
    },
    {
      "cell_type": "code",
      "metadata": {
        "id": "ixNn6OmMx7EZ"
      },
      "source": [
        "X_train, X_test, y_train, y_test = train_test_split(X,y,test_size =0.2,stratify = y)"
      ],
      "execution_count": 140,
      "outputs": []
    },
    {
      "cell_type": "markdown",
      "metadata": {
        "id": "Em7xTVBy1WnO"
      },
      "source": [
        "**Usaremos una regresion Logistica, basada en el X_train y X_test, que separamos anteriormente**"
      ]
    },
    {
      "cell_type": "code",
      "metadata": {
        "colab": {
          "base_uri": "https://localhost:8080/"
        },
        "id": "8UXwkfjs1Cfz",
        "outputId": "12865746-fe8f-48aa-8e9f-d306af89ce7c"
      },
      "source": [
        "from sklearn.linear_model import LogisticRegression\n",
        "regresion_logistica = LogisticRegression( max_iter=1000)\n",
        "regresion_logistica.fit(X,y)\n"
      ],
      "execution_count": 141,
      "outputs": [
        {
          "output_type": "stream",
          "text": [
            "/usr/local/lib/python3.7/dist-packages/sklearn/linear_model/_logistic.py:940: ConvergenceWarning:\n",
            "\n",
            "lbfgs failed to converge (status=1):\n",
            "STOP: TOTAL NO. of ITERATIONS REACHED LIMIT.\n",
            "\n",
            "Increase the number of iterations (max_iter) or scale the data as shown in:\n",
            "    https://scikit-learn.org/stable/modules/preprocessing.html\n",
            "Please also refer to the documentation for alternative solver options:\n",
            "    https://scikit-learn.org/stable/modules/linear_model.html#logistic-regression\n",
            "\n"
          ],
          "name": "stderr"
        },
        {
          "output_type": "execute_result",
          "data": {
            "text/plain": [
              "LogisticRegression(C=1.0, class_weight=None, dual=False, fit_intercept=True,\n",
              "                   intercept_scaling=1, l1_ratio=None, max_iter=1000,\n",
              "                   multi_class='auto', n_jobs=None, penalty='l2',\n",
              "                   random_state=None, solver='lbfgs', tol=0.0001, verbose=0,\n",
              "                   warm_start=False)"
            ]
          },
          "metadata": {
            "tags": []
          },
          "execution_count": 141
        }
      ]
    },
    {
      "cell_type": "code",
      "metadata": {
        "colab": {
          "base_uri": "https://localhost:8080/"
        },
        "id": "U9WLMFuOKIQw",
        "outputId": "37506404-36ba-4de5-8e9e-12c5c8682c34"
      },
      "source": [
        "score = regresion_logistica.score(X, y)\n",
        "print(\"Accuracy: \",f\"{score}\")"
      ],
      "execution_count": 142,
      "outputs": [
        {
          "output_type": "stream",
          "text": [
            "Accuracy:  0.9445818901533894\n"
          ],
          "name": "stdout"
        }
      ]
    },
    {
      "cell_type": "markdown",
      "metadata": {
        "id": "ANZDMDalNwEM"
      },
      "source": [
        "**Vamos a probar con un Arbol de Decisiones**"
      ]
    },
    {
      "cell_type": "code",
      "metadata": {
        "id": "Kx3fJQIh2yFV"
      },
      "source": [
        "from sklearn.tree import DecisionTreeClassifier"
      ],
      "execution_count": 143,
      "outputs": []
    },
    {
      "cell_type": "code",
      "metadata": {
        "id": "lnIV0XM5akmz"
      },
      "source": [
        "from sklearn.model_selection import train_test_split\n",
        "from sklearn import metrics"
      ],
      "execution_count": 144,
      "outputs": []
    },
    {
      "cell_type": "code",
      "metadata": {
        "id": "IIjjQAH_a6Cx"
      },
      "source": [
        "clf = DecisionTreeClassifier()\n",
        "clf = clf.fit(X_df,y_df)\n",
        "y_pred = clf.predict(X_test)"
      ],
      "execution_count": 145,
      "outputs": []
    },
    {
      "cell_type": "code",
      "metadata": {
        "colab": {
          "base_uri": "https://localhost:8080/"
        },
        "id": "7MCTAmEmcr6Z",
        "outputId": "cb7fd136-8909-4552-f8e8-e34a1b01089a"
      },
      "source": [
        "print(\"Accuracy:\",metrics.accuracy_score(y_test, y_pred))"
      ],
      "execution_count": 146,
      "outputs": [
        {
          "output_type": "stream",
          "text": [
            "Accuracy: 1.0\n"
          ],
          "name": "stdout"
        }
      ]
    },
    {
      "cell_type": "code",
      "metadata": {
        "id": "_odB45kUK8mr"
      },
      "source": [
        ""
      ],
      "execution_count": 146,
      "outputs": []
    },
    {
      "cell_type": "markdown",
      "metadata": {
        "id": "X2iHav8_4lHd"
      },
      "source": [
        "## TRANSFORMATION"
      ]
    },
    {
      "cell_type": "markdown",
      "metadata": {
        "id": "BPqfpfrs4qyE"
      },
      "source": [
        "**NOrmalizamos las variables numericas, con el proposito que converga**"
      ]
    },
    {
      "cell_type": "markdown",
      "metadata": {
        "id": "gw3SiHZA5rlt"
      },
      "source": [
        "Iniciamos con la Capacidad del Plan de Datos, con ONE HOT ENCONDER"
      ]
    },
    {
      "cell_type": "code",
      "metadata": {
        "id": "cIlIa0Ae4yB0"
      },
      "source": [
        "from category_encoders import OneHotEncoder"
      ],
      "execution_count": 147,
      "outputs": []
    },
    {
      "cell_type": "code",
      "metadata": {
        "colab": {
          "base_uri": "https://localhost:8080/"
        },
        "id": "NdR7uooQ52Ij",
        "outputId": "e4b600a0-a06b-4bf4-962f-14e46e603f8e"
      },
      "source": [
        "X_df['CAP_PLAN_ENC'] = df_recortado['CAPACIDAD_PLAN_DATOS'].astype(str)\n",
        "onehot_enc = OneHotEncoder( use_cat_names=True)\n",
        "X_caplan = onehot_enc.fit_transform(X_df['CAP_PLAN_ENC'])\n",
        "X_df = pd.concat([X_df, X_caplan], axis=1)\n",
        "X_df = X_df.drop(['CAPACIDAD_PLAN_DATOS','CAP_PLAN_ENC'], axis=1)"
      ],
      "execution_count": 148,
      "outputs": [
        {
          "output_type": "stream",
          "text": [
            "/usr/local/lib/python3.7/dist-packages/category_encoders/utils.py:21: FutureWarning:\n",
            "\n",
            "is_categorical is deprecated and will be removed in a future version.  Use is_categorical_dtype instead\n",
            "\n"
          ],
          "name": "stderr"
        }
      ]
    },
    {
      "cell_type": "markdown",
      "metadata": {
        "id": "TEIw8CjY64zm"
      },
      "source": [
        "Vamos a transformar la Cuota Basica"
      ]
    },
    {
      "cell_type": "code",
      "metadata": {
        "id": "Ec2f8Rhz6_zs"
      },
      "source": [
        "from sklearn.preprocessing import MinMaxScaler"
      ],
      "execution_count": 149,
      "outputs": []
    },
    {
      "cell_type": "code",
      "metadata": {
        "id": "bnaNGcd47FhT"
      },
      "source": [
        "scaler = MinMaxScaler()\n",
        "col_name = 'CUOTA_BASICA'\n",
        "trans_col_name = 'CUOTA_BASICA_MM'\n",
        "X_df[trans_col_name] = scaler.fit_transform(X_df[[col_name]])\n",
        "X_df = X_df.drop(['CUOTA_BASICA'], axis=1)"
      ],
      "execution_count": 150,
      "outputs": []
    },
    {
      "cell_type": "markdown",
      "metadata": {
        "id": "oucIqoBP8pVE"
      },
      "source": [
        "Pasaremos las variables Anexos Home y Anexos Movil que son numericas, las convertiremos en variables Categoricas"
      ]
    },
    {
      "cell_type": "code",
      "metadata": {
        "id": "zJnwxFTN84Xv"
      },
      "source": [
        "X_df.loc[X_df['ANEXOS_MOBILE'] == 0, 'ANEXOS_TRANS'] = 0\n",
        "X_df.loc[X_df['ANEXOS_MOBILE'] != 0, 'ANEXOS_TRANS'] = 1\n",
        "X_df.loc[X_df['ANEXOS_HOME'] == 0, 'ANEXOS_TRANS_2'] = 0\n",
        "X_df.loc[X_df['ANEXOS_HOME'] != 0, 'ANEXOS_TRANS_2'] = 1\n",
        "X_df['ANEXOS_TRANS_V'] = X_df['ANEXOS_TRANS'] + X_df['ANEXOS_TRANS_2']"
      ],
      "execution_count": 151,
      "outputs": []
    },
    {
      "cell_type": "code",
      "metadata": {
        "id": "dmueZhJJ96GL"
      },
      "source": [
        "X_df = X_df.drop(['ANEXOS_MOBILE','ANEXOS_HOME'], axis=1)"
      ],
      "execution_count": 152,
      "outputs": []
    },
    {
      "cell_type": "markdown",
      "metadata": {
        "id": "TG4l1uu5-DJJ"
      },
      "source": [
        "Transformaremos los meses de antiguedad del cliente a una distribucion lo mas normal posible a traves de Power Transform Yeo-Johnson"
      ]
    },
    {
      "cell_type": "code",
      "metadata": {
        "id": "TWfw9tvZ-qMS"
      },
      "source": [
        "from sklearn.preprocessing import PowerTransformer"
      ],
      "execution_count": 153,
      "outputs": []
    },
    {
      "cell_type": "code",
      "metadata": {
        "id": "rCzVsiK_-xYL"
      },
      "source": [
        "scaler = PowerTransformer()\n",
        "col_name ='MESES_CLIENTE_ANTIGUEDAD'\n",
        "trans_col_name='MESES_CLIENTE_ANTIGUEDAD_PW'\n",
        "X_df[trans_col_name] = scaler.fit_transform(X_df[[col_name]])\n",
        "X_df = X_df.drop(['MESES_CLIENTE_ANTIGUEDAD'], axis=1)"
      ],
      "execution_count": 154,
      "outputs": []
    },
    {
      "cell_type": "markdown",
      "metadata": {
        "id": "6uASywRz_8yI"
      },
      "source": [
        "Vamos a convertir los meses de contrato del cliente en una variable categorica a traves de CountEncoder"
      ]
    },
    {
      "cell_type": "code",
      "metadata": {
        "id": "uqxk6uvgAN_H"
      },
      "source": [
        "from category_encoders import CountEncoder"
      ],
      "execution_count": 155,
      "outputs": []
    },
    {
      "cell_type": "code",
      "metadata": {
        "id": "0rbZMmH_AT8P"
      },
      "source": [
        "X_df.loc[X_df['MESES_CONTRATO'] == 12, 'MESES_CONT_NAME'] = 'DOCE'\n",
        "X_df.loc[X_df['MESES_CONTRATO'] == 24, 'MESES_CONT_NAME'] = 'VEINTICUATRO'\n",
        "X_df.loc[X_df['MESES_CONTRATO'] == 18, 'MESES_CONT_NAME'] = 'DIECIOCHO'"
      ],
      "execution_count": 156,
      "outputs": []
    },
    {
      "cell_type": "code",
      "metadata": {
        "id": "W9tDiz68A08a"
      },
      "source": [
        "count_enc_meses = CountEncoder(normalize=True)"
      ],
      "execution_count": 157,
      "outputs": []
    },
    {
      "cell_type": "code",
      "metadata": {
        "id": "laYMWksRA1Tx"
      },
      "source": [
        "X_df['MESES_CONT_TRANS'] = count_enc_meses.fit_transform(X_df['MESES_CONT_NAME'])\n",
        "X_df = X_df.drop(['MESES_CONT_NAME','MESES_CONTRATO'], axis=1)"
      ],
      "execution_count": 158,
      "outputs": []
    },
    {
      "cell_type": "markdown",
      "metadata": {
        "id": "4W4_Ed5gBgCB"
      },
      "source": [
        "Vamos transfomar el Subisidio a traves de QuantileTransformer"
      ]
    },
    {
      "cell_type": "code",
      "metadata": {
        "id": "w_MBawZxC8QD"
      },
      "source": [
        "from sklearn.preprocessing import QuantileTransformer\n",
        "subsidio_scaler = QuantileTransformer( output_distribution='normal')\n",
        "col_name = 'SUBSIDIO'\n",
        "trans_col_name = 'SUBSIDIO_QT'\n",
        "X_df[trans_col_name] = subsidio_scaler.fit_transform(X_df[[col_name]])\n",
        "X_df = X_df.drop(['SUBSIDIO'], axis=1)"
      ],
      "execution_count": 159,
      "outputs": []
    },
    {
      "cell_type": "markdown",
      "metadata": {
        "id": "tfgwZKV9EPR2"
      },
      "source": [
        "Vamos transfomar la variable PAGO DEVICE CLIENTE, a traves de POWER TRANSFORM"
      ]
    },
    {
      "cell_type": "code",
      "metadata": {
        "id": "CycFaY3tEX0E"
      },
      "source": [
        "X_df['PAGO_DEVICE_CLIENTE'] = X_df['PAGO_DEVICE_CLIENTE'].abs() \n",
        "pagoCliente_scaler = PowerTransformer()\n",
        "col_name = 'PAGO_DEVICE_CLIENTE'\n",
        "trans_col_name = 'PAGO_DEVICE_CLIENTE_PT'\n",
        "X_df[trans_col_name] = pagoCliente_scaler.fit_transform(X_df[[col_name]])\n",
        "X_df = X_df.drop(['PAGO_DEVICE_CLIENTE'], axis=1)"
      ],
      "execution_count": 160,
      "outputs": []
    },
    {
      "cell_type": "markdown",
      "metadata": {
        "id": "m-dQoCwYE1CQ"
      },
      "source": [
        "Vamos a transformar la variable AVG_DIAS_PAGO_A_TIEMPO y AVG_DIAS_PAGO_TARDE con MinMax Scale"
      ]
    },
    {
      "cell_type": "code",
      "metadata": {
        "id": "Iw3Umiy2FPrp"
      },
      "source": [
        "scaler = MinMaxScaler()\n",
        "\n",
        "col_name = 'AVG_DIAS_PAGO_TARDE'\n",
        "trans_col_name = 'AVG_DIAS_PAGO_TARDE_MM'\n",
        "X_df[trans_col_name] = scaler.fit_transform(X_df[[col_name]])\n",
        "X_df = X_df.drop(['AVG_DIAS_PAGO_TARDE'], axis=1)\n",
        "\n",
        "col_name = 'AVG_DIAS_PAGO_A_TIEMPO'\n",
        "trans_col_name = 'AVG_DIAS_PAGO_A_TIEMPO_MM'\n",
        "X_df[trans_col_name] = scaler.fit_transform(X_df[[col_name]])\n",
        "X_df = X_df.drop(['AVG_DIAS_PAGO_A_TIEMPO'], axis=1)\n",
        "\n"
      ],
      "execution_count": 605,
      "outputs": []
    },
    {
      "cell_type": "markdown",
      "metadata": {
        "id": "nWInzdGmHeLG"
      },
      "source": [
        "Vamos a crear una nueva variable categorica a partir de las variables numericas FACTURAS_PAGADAS_EN_TIEMPO y FACTURAS_PAGADAS_TARDE, y quedara con un RATIO"
      ]
    },
    {
      "cell_type": "code",
      "metadata": {
        "id": "WFeOwV0UGw3e"
      },
      "source": [
        "X_df['POR_PAGO_FACTURAS'] = X_df['FACTURAS_PAGADAS_EN_TIEMPO'] / (X_df['FACTURAS_PAGADAS_TARDE'] + X_df['FACTURAS_PAGADAS_EN_TIEMPO'])\n",
        "X_df = X_df.drop(['FACTURAS_PAGADAS_EN_TIEMPO','FACTURAS_PAGADAS_TARDE'], axis=1)\n"
      ],
      "execution_count": 161,
      "outputs": []
    },
    {
      "cell_type": "code",
      "metadata": {
        "id": "V0fjxCHaIVFM"
      },
      "source": [
        "X_df = X_df.drop(['CANTIDAD_ABONOS_PARA_PAGAR_AVG','PROMEDIO_CONSUMO_DATOS_GB'], axis=1)"
      ],
      "execution_count": 162,
      "outputs": []
    },
    {
      "cell_type": "markdown",
      "metadata": {
        "id": "r1vbhba-LNfX"
      },
      "source": [
        "## ITERACIONES"
      ]
    },
    {
      "cell_type": "markdown",
      "metadata": {
        "id": "idknylrdIxN9"
      },
      "source": [
        "**Probaremos con el modelo de Regresion LIneal Logistica con variables Transformadas**"
      ]
    },
    {
      "cell_type": "code",
      "metadata": {
        "id": "ul_8OQ96JAdv"
      },
      "source": [
        "X = X_df.to_numpy()\n",
        "y = y_df.to_numpy()"
      ],
      "execution_count": 608,
      "outputs": []
    },
    {
      "cell_type": "code",
      "metadata": {
        "id": "_GrEV90OJQTr"
      },
      "source": [
        "X_train, X_test, y_train, y_test = train_test_split(X,y,test_size =0.2,stratify = y)"
      ],
      "execution_count": 609,
      "outputs": []
    },
    {
      "cell_type": "code",
      "metadata": {
        "colab": {
          "base_uri": "https://localhost:8080/"
        },
        "id": "eLY3ykkPJXy5",
        "outputId": "197ffb3a-62b5-45f8-81b3-e31b4c74cb3b"
      },
      "source": [
        "regresion_logistica = LogisticRegression( max_iter=20000)\n",
        "regresion_logistica.fit(X,y)"
      ],
      "execution_count": 610,
      "outputs": [
        {
          "output_type": "execute_result",
          "data": {
            "text/plain": [
              "LogisticRegression(C=1.0, class_weight=None, dual=False, fit_intercept=True,\n",
              "                   intercept_scaling=1, l1_ratio=None, max_iter=20000,\n",
              "                   multi_class='auto', n_jobs=None, penalty='l2',\n",
              "                   random_state=None, solver='lbfgs', tol=0.0001, verbose=0,\n",
              "                   warm_start=False)"
            ]
          },
          "metadata": {
            "tags": []
          },
          "execution_count": 610
        }
      ]
    },
    {
      "cell_type": "code",
      "metadata": {
        "colab": {
          "base_uri": "https://localhost:8080/"
        },
        "id": "ERwI-wCKJYsL",
        "outputId": "0233f683-208d-4331-94a7-1545a5649195"
      },
      "source": [
        "score = regresion_logistica.score(X, y)\n",
        "print(\"Accuracy: \",f\"{score}\")"
      ],
      "execution_count": 611,
      "outputs": [
        {
          "output_type": "stream",
          "text": [
            "Accuracy:  0.9501821403957862\n"
          ],
          "name": "stdout"
        }
      ]
    },
    {
      "cell_type": "markdown",
      "metadata": {
        "id": "NSJs6QtJc_Fn"
      },
      "source": [
        "Probaremos con el modelo de Arboles de Decision con variables transformadas"
      ]
    },
    {
      "cell_type": "code",
      "metadata": {
        "id": "3IG2QaR9c9tI"
      },
      "source": [
        "clf = DecisionTreeClassifier()\n",
        "clf = clf.fit(X_df,y_df)\n",
        "y_pred = clf.predict(X_test)"
      ],
      "execution_count": 612,
      "outputs": []
    },
    {
      "cell_type": "code",
      "metadata": {
        "colab": {
          "base_uri": "https://localhost:8080/"
        },
        "id": "e0UGU0jgePTQ",
        "outputId": "7b04ca11-aa04-410e-e96c-0238fa5ba2df"
      },
      "source": [
        "print(\"Accuracy:\",metrics.accuracy_score(y_test, y_pred))"
      ],
      "execution_count": 613,
      "outputs": [
        {
          "output_type": "stream",
          "text": [
            "Accuracy: 1.0\n"
          ],
          "name": "stdout"
        }
      ]
    },
    {
      "cell_type": "markdown",
      "metadata": {
        "id": "gbKKLGJ4ITNF"
      },
      "source": [
        "## Vamos a definir dos datasets uno de numericas y otro de Categoricas, las cuales ya fueron transformadas"
      ]
    },
    {
      "cell_type": "code",
      "metadata": {
        "colab": {
          "base_uri": "https://localhost:8080/"
        },
        "id": "Ba2khMeghPPa",
        "outputId": "e18872b9-3168-42cd-d517-2a521d9e634c"
      },
      "source": [
        "X_df.info()\n"
      ],
      "execution_count": 614,
      "outputs": [
        {
          "output_type": "stream",
          "text": [
            "<class 'pandas.core.frame.DataFrame'>\n",
            "Int64Index: 10157 entries, 1 to 17466\n",
            "Data columns (total 35 columns):\n",
            " #   Column                       Non-Null Count  Dtype  \n",
            "---  ------                       --------------  -----  \n",
            " 0   CONSUMO_PORCENT_CUOTA        10157 non-null  float64\n",
            " 1   TIPO_PRODUCTO_C              10157 non-null  int64  \n",
            " 2   TIPO_PRODUCTO_A              10157 non-null  int64  \n",
            " 3   TIPO_PRODUCTO_Q              10157 non-null  int64  \n",
            " 4   DEPARTAMENTO_TRANS           10157 non-null  int64  \n",
            " 5   CAP_PLAN_ENC_20              10157 non-null  int64  \n",
            " 6   CAP_PLAN_ENC_15              10157 non-null  int64  \n",
            " 7   CAP_PLAN_ENC_25              10157 non-null  int64  \n",
            " 8   CAP_PLAN_ENC_10              10157 non-null  int64  \n",
            " 9   CAP_PLAN_ENC_70              10157 non-null  int64  \n",
            " 10  CAP_PLAN_ENC_16              10157 non-null  int64  \n",
            " 11  CAP_PLAN_ENC_30              10157 non-null  int64  \n",
            " 12  CAP_PLAN_ENC_60              10157 non-null  int64  \n",
            " 13  CAP_PLAN_ENC_40              10157 non-null  int64  \n",
            " 14  CAP_PLAN_ENC_50              10157 non-null  int64  \n",
            " 15  CAP_PLAN_ENC_14              10157 non-null  int64  \n",
            " 16  CAP_PLAN_ENC_6               10157 non-null  int64  \n",
            " 17  CAP_PLAN_ENC_5               10157 non-null  int64  \n",
            " 18  CAP_PLAN_ENC_12              10157 non-null  int64  \n",
            " 19  CAP_PLAN_ENC_35              10157 non-null  int64  \n",
            " 20  CAP_PLAN_ENC_7               10157 non-null  int64  \n",
            " 21  CAP_PLAN_ENC_1               10157 non-null  int64  \n",
            " 22  CAP_PLAN_ENC_9               10157 non-null  int64  \n",
            " 23  CAP_PLAN_ENC_8               10157 non-null  int64  \n",
            " 24  CUOTA_BASICA_MM              10157 non-null  float64\n",
            " 25  ANEXOS_TRANS                 10157 non-null  float64\n",
            " 26  ANEXOS_TRANS_2               10157 non-null  float64\n",
            " 27  ANEXOS_TRANS_V               10157 non-null  float64\n",
            " 28  MESES_CLIENTE_ANTIGUEDAD_PW  10157 non-null  float64\n",
            " 29  MESES_CONT_TRANS             10157 non-null  float64\n",
            " 30  SUBSIDIO_QT                  10157 non-null  float64\n",
            " 31  PAGO_DEVICE_CLIENTE_PT       10157 non-null  float64\n",
            " 32  AVG_DIAS_PAGO_TARDE_MM       10157 non-null  float64\n",
            " 33  AVG_DIAS_PAGO_A_TIEMPO_MM    10157 non-null  float64\n",
            " 34  POR_PAGO_FACTURAS            10157 non-null  float64\n",
            "dtypes: float64(12), int64(23)\n",
            "memory usage: 2.8 MB\n"
          ],
          "name": "stdout"
        }
      ]
    },
    {
      "cell_type": "code",
      "metadata": {
        "id": "yoW564lLhZ53"
      },
      "source": [
        "Vars_categoricas = [\"TIPO_PRODUCTO_C\",\"TIPO_PRODUCTO_A\",\"TIPO_PRODUCTO_Q\",\"DEPARTAMENTO_TRANS\",\"MESES_CONT_TRANS\",\"ANEXOS_TRANS_V\",\"CAP_PLAN_ENC_20\",\n",
        "                    \"CAP_PLAN_ENC_15\",\"CAP_PLAN_ENC_25\",\"CAP_PLAN_ENC_10\",\"CAP_PLAN_ENC_70\",\"CAP_PLAN_ENC_16\",\"CAP_PLAN_ENC_30\",\"CAP_PLAN_ENC_60\",\n",
        "                    \"CAP_PLAN_ENC_40\",\"CAP_PLAN_ENC_50\",\"CAP_PLAN_ENC_14\",\"CAP_PLAN_ENC_6\",\"CAP_PLAN_ENC_5\",\"CAP_PLAN_ENC_12\",\"CAP_PLAN_ENC_35\",\n",
        "                    \"CAP_PLAN_ENC_7\",\"CAP_PLAN_ENC_1\",\"CAP_PLAN_ENC_9\",\"CAP_PLAN_ENC_8\"]\n",
        "Vars_numericas = [\"CONSUMO_PORCENT_CUOTA\",\"MESES_CLIENTE_ANTIGUEDAD_PW\",\"SUBSIDIO_QT\",\"PAGO_DEVICE_CLIENTE_PT\",\"AVG_DIAS_PAGO_TARDE_MM\",\n",
        "                  \"AVG_DIAS_PAGO_A_TIEMPO_MM\",\"POR_PAGO_FACTURAS\"]\n",
        "Vars_combi1 =  [\"TIPO_PRODUCTO_C\",\"TIPO_PRODUCTO_A\",\"TIPO_PRODUCTO_Q\",\"DEPARTAMENTO_TRANS\",\"MESES_CONT_TRANS\",\"ANEXOS_TRANS_V\",\n",
        "                \"CONSUMO_PORCENT_CUOTA\",\"MESES_CLIENTE_ANTIGUEDAD_PW\",\"SUBSIDIO_QT\"]\n",
        "Vars_combi2 = [\"CAP_PLAN_ENC_20\",\n",
        "                    \"CAP_PLAN_ENC_15\",\"CAP_PLAN_ENC_25\",\"CAP_PLAN_ENC_10\",\"CAP_PLAN_ENC_70\",\"CAP_PLAN_ENC_16\",\"CAP_PLAN_ENC_30\",\"CAP_PLAN_ENC_60\",\n",
        "                    \"CAP_PLAN_ENC_40\",\"CAP_PLAN_ENC_50\",\"CAP_PLAN_ENC_14\",\"CAP_PLAN_ENC_6\",\"CAP_PLAN_ENC_5\",\"CAP_PLAN_ENC_12\",\"CAP_PLAN_ENC_35\",\n",
        "                    \"CAP_PLAN_ENC_7\",\"CAP_PLAN_ENC_1\",\"CAP_PLAN_ENC_9\",\"CAP_PLAN_ENC_8\",\"PAGO_DEVICE_CLIENTE_PT\",\"AVG_DIAS_PAGO_TARDE_MM\",\n",
        "                  \"AVG_DIAS_PAGO_A_TIEMPO_MM\",\"POR_PAGO_FACTURAS\"]"
      ],
      "execution_count": 650,
      "outputs": []
    },
    {
      "cell_type": "code",
      "metadata": {
        "id": "M_q7gFtTh4L2"
      },
      "source": [
        "X_df_categoricas = X_df[Vars_categoricas]\n",
        "X_df_numericas   = X_df[Vars_numericas]\n",
        "X_df_combi1      = X_df[Vars_combi1]\n",
        "X_df_combi2      = X_df[Vars_combi2]"
      ],
      "execution_count": 651,
      "outputs": []
    },
    {
      "cell_type": "markdown",
      "metadata": {
        "id": "6JZBW437p_6V"
      },
      "source": [
        "Vamos a correr la regresion logistica solo con las numericas\n",
        "\n",
        "---\n",
        "\n"
      ]
    },
    {
      "cell_type": "code",
      "metadata": {
        "colab": {
          "base_uri": "https://localhost:8080/"
        },
        "id": "XBZrZFLmqEU8",
        "outputId": "cc0938e2-fde0-4b2c-f138-cfb1acea6356"
      },
      "source": [
        "X = X_df_numericas.to_numpy()\n",
        "y = y_df.to_numpy()\n",
        "X_train, X_test, y_train, y_test = train_test_split(X,y,test_size =0.2,stratify = y)\n",
        "regresion_logistica = LogisticRegression( max_iter=20000)\n",
        "regresion_logistica.fit(X,y)"
      ],
      "execution_count": 646,
      "outputs": [
        {
          "output_type": "execute_result",
          "data": {
            "text/plain": [
              "LogisticRegression(C=1.0, class_weight=None, dual=False, fit_intercept=True,\n",
              "                   intercept_scaling=1, l1_ratio=None, max_iter=20000,\n",
              "                   multi_class='auto', n_jobs=None, penalty='l2',\n",
              "                   random_state=None, solver='lbfgs', tol=0.0001, verbose=0,\n",
              "                   warm_start=False)"
            ]
          },
          "metadata": {
            "tags": []
          },
          "execution_count": 646
        }
      ]
    },
    {
      "cell_type": "code",
      "metadata": {
        "colab": {
          "base_uri": "https://localhost:8080/"
        },
        "id": "P-hyXPw8qg6u",
        "outputId": "d6fbb6cf-ed53-4d9e-be1f-18cba948d45c"
      },
      "source": [
        "print(\"Accuracy:\",metrics.accuracy_score(y_test, y_pred))"
      ],
      "execution_count": 647,
      "outputs": [
        {
          "output_type": "stream",
          "text": [
            "Accuracy: 0.8996062992125984\n"
          ],
          "name": "stdout"
        }
      ]
    },
    {
      "cell_type": "markdown",
      "metadata": {
        "id": "FQKZObnNq2QM"
      },
      "source": [
        "Vamos a correr la regresion logistica solo con las numericas"
      ]
    },
    {
      "cell_type": "code",
      "metadata": {
        "colab": {
          "base_uri": "https://localhost:8080/"
        },
        "id": "CKfLRt0Gq7Bb",
        "outputId": "9601c256-92e7-401d-bd0e-4ca092486ef5"
      },
      "source": [
        "X = X_df_categoricas.to_numpy()\n",
        "y = y_df.to_numpy()\n",
        "X_train, X_test, y_train, y_test = train_test_split(X,y,test_size =0.2,stratify = y)\n",
        "regresion_logistica = LogisticRegression( max_iter=20000)\n",
        "regresion_logistica.fit(X,y)"
      ],
      "execution_count": 648,
      "outputs": [
        {
          "output_type": "execute_result",
          "data": {
            "text/plain": [
              "LogisticRegression(C=1.0, class_weight=None, dual=False, fit_intercept=True,\n",
              "                   intercept_scaling=1, l1_ratio=None, max_iter=20000,\n",
              "                   multi_class='auto', n_jobs=None, penalty='l2',\n",
              "                   random_state=None, solver='lbfgs', tol=0.0001, verbose=0,\n",
              "                   warm_start=False)"
            ]
          },
          "metadata": {
            "tags": []
          },
          "execution_count": 648
        }
      ]
    },
    {
      "cell_type": "code",
      "metadata": {
        "colab": {
          "base_uri": "https://localhost:8080/"
        },
        "id": "RASAYIfYrDz8",
        "outputId": "9f6415e2-1418-42f2-ac33-c493fbf76011"
      },
      "source": [
        "print(\"Accuracy:\",metrics.accuracy_score(y_test, y_pred))"
      ],
      "execution_count": 649,
      "outputs": [
        {
          "output_type": "stream",
          "text": [
            "Accuracy: 0.905511811023622\n"
          ],
          "name": "stdout"
        }
      ]
    },
    {
      "cell_type": "markdown",
      "metadata": {
        "id": "EBB619L1rxMc"
      },
      "source": [
        "Vamos a correr la regresion Logistica con la combinacion 1"
      ]
    },
    {
      "cell_type": "code",
      "metadata": {
        "colab": {
          "base_uri": "https://localhost:8080/"
        },
        "id": "RUUN8Q_IrrJ-",
        "outputId": "1ea1f87c-483f-4683-82c9-987c4b7a6c1f"
      },
      "source": [
        "X = X_df_combi1.to_numpy()\n",
        "y = y_df.to_numpy()\n",
        "X_train, X_test, y_train, y_test = train_test_split(X,y,test_size =0.2,stratify = y)\n",
        "regresion_logistica = LogisticRegression( max_iter=20000)\n",
        "regresion_logistica.fit(X,y)\n",
        "print(\"Accuracy:\",metrics.accuracy_score(y_test, y_pred))"
      ],
      "execution_count": 652,
      "outputs": [
        {
          "output_type": "stream",
          "text": [
            "Accuracy: 0.9015748031496063\n"
          ],
          "name": "stdout"
        }
      ]
    },
    {
      "cell_type": "markdown",
      "metadata": {
        "id": "uhu2NOKyswOL"
      },
      "source": [
        "Vamos a correr la regresion Logistica con la combinacion 2"
      ]
    },
    {
      "cell_type": "code",
      "metadata": {
        "colab": {
          "base_uri": "https://localhost:8080/"
        },
        "id": "qJ0AsSYZsvTe",
        "outputId": "dbf9ecdf-64a4-40b0-dc97-013a420cd148"
      },
      "source": [
        "X = X_df_combi2.to_numpy()\n",
        "y = y_df.to_numpy()\n",
        "X_train, X_test, y_train, y_test = train_test_split(X,y,test_size =0.2,stratify = y)\n",
        "regresion_logistica = LogisticRegression( max_iter=20000)\n",
        "regresion_logistica.fit(X,y)\n",
        "print(\"Accuracy:\",metrics.accuracy_score(y_test, y_pred))"
      ],
      "execution_count": 655,
      "outputs": [
        {
          "output_type": "stream",
          "text": [
            "Accuracy: 0.9005905511811023\n"
          ],
          "name": "stdout"
        }
      ]
    },
    {
      "cell_type": "markdown",
      "metadata": {
        "id": "2C4-y_RMs8dX"
      },
      "source": [
        "Ahora corremos Arbol de Decsiones con Variables Numericas"
      ]
    },
    {
      "cell_type": "code",
      "metadata": {
        "id": "IHQByeOMtDbE"
      },
      "source": [
        "X = X_df_numericas.to_numpy()\n",
        "y = y_df.to_numpy()\n",
        "X_train, X_test, y_train, y_test = train_test_split(X,y,test_size =0.2,stratify = y)"
      ],
      "execution_count": 658,
      "outputs": []
    },
    {
      "cell_type": "code",
      "metadata": {
        "colab": {
          "base_uri": "https://localhost:8080/"
        },
        "id": "4jWFuFTuuJru",
        "outputId": "2d306280-98cc-4fa6-96d9-aa2688127530"
      },
      "source": [
        "clf = DecisionTreeClassifier()\n",
        "clf = clf.fit(X_df_numericas,y_df)\n",
        "y_pred = clf.predict(X_test)\n",
        "print(\"Accuracy:\",metrics.accuracy_score(y_test, y_pred))"
      ],
      "execution_count": 662,
      "outputs": [
        {
          "output_type": "stream",
          "text": [
            "Accuracy: 1.0\n"
          ],
          "name": "stdout"
        }
      ]
    },
    {
      "cell_type": "markdown",
      "metadata": {
        "id": "KiFoKd-6vAwI"
      },
      "source": [
        "Ahora corremos Arbol de Decsiones con Variables Categoricas"
      ]
    },
    {
      "cell_type": "code",
      "metadata": {
        "colab": {
          "base_uri": "https://localhost:8080/"
        },
        "id": "hJdudTObvISG",
        "outputId": "fefcabd4-6891-4de8-a82f-8c6ce3f29146"
      },
      "source": [
        "X = X_df_categoricas.to_numpy()\n",
        "y = y_df.to_numpy()\n",
        "X_train, X_test, y_train, y_test = train_test_split(X,y,test_size =0.2,stratify = y)\n",
        "\n",
        "clf = DecisionTreeClassifier()\n",
        "clf = clf.fit(X_df_categoricas,y_df)\n",
        "y_pred = clf.predict(X_test)\n",
        "print(\"Accuracy:\",metrics.accuracy_score(y_test, y_pred))"
      ],
      "execution_count": 663,
      "outputs": [
        {
          "output_type": "stream",
          "text": [
            "Accuracy: 0.9591535433070866\n"
          ],
          "name": "stdout"
        }
      ]
    },
    {
      "cell_type": "markdown",
      "metadata": {
        "id": "Zu1kV7k6vYhx"
      },
      "source": [
        "Ahora corremos Arbol de Decsiones con Variables de la Combinacion 1"
      ]
    },
    {
      "cell_type": "code",
      "metadata": {
        "colab": {
          "base_uri": "https://localhost:8080/"
        },
        "id": "oLEq1pVhvnPm",
        "outputId": "f0544e1a-6aeb-450c-9b10-b81b2ff3d59b"
      },
      "source": [
        "X = X_df_combi1.to_numpy()\n",
        "y = y_df.to_numpy()\n",
        "X_train, X_test, y_train, y_test = train_test_split(X,y,test_size =0.2,stratify = y)\n",
        "\n",
        "clf = DecisionTreeClassifier()\n",
        "clf = clf.fit(X_df_combi1,y_df)\n",
        "y_pred = clf.predict(X_test)\n",
        "print(\"Accuracy:\",metrics.accuracy_score(y_test, y_pred))"
      ],
      "execution_count": 665,
      "outputs": [
        {
          "output_type": "stream",
          "text": [
            "Accuracy: 1.0\n"
          ],
          "name": "stdout"
        }
      ]
    },
    {
      "cell_type": "markdown",
      "metadata": {
        "id": "jcz0x8OyvtBG"
      },
      "source": [
        "Ahora corremos Arbol de Decsiones con Variables de la Combinacion 2"
      ]
    },
    {
      "cell_type": "code",
      "metadata": {
        "colab": {
          "base_uri": "https://localhost:8080/"
        },
        "id": "kOJH8GPJvvi2",
        "outputId": "f967f970-2464-4611-c9f7-aa9cdbbee082"
      },
      "source": [
        "X = X_df_combi2.to_numpy()\n",
        "y = y_df.to_numpy()\n",
        "X_train, X_test, y_train, y_test = train_test_split(X,y,test_size =0.2,stratify = y)\n",
        "\n",
        "clf = DecisionTreeClassifier()\n",
        "clf = clf.fit(X_df_combi2,y_df)\n",
        "y_pred = clf.predict(X_test)\n",
        "print(\"Accuracy:\",metrics.accuracy_score(y_test, y_pred))"
      ],
      "execution_count": 666,
      "outputs": [
        {
          "output_type": "stream",
          "text": [
            "Accuracy: 0.9891732283464567\n"
          ],
          "name": "stdout"
        }
      ]
    }
  ]
}