{
  "nbformat": 4,
  "nbformat_minor": 0,
  "metadata": {
    "colab": {
      "name": "MODELO.ipynb",
      "provenance": [],
      "authorship_tag": "ABX9TyP8ge11nVPQAZpMwP+jfn4j",
      "include_colab_link": true
    },
    "kernelspec": {
      "name": "python3",
      "display_name": "Python 3"
    },
    "language_info": {
      "name": "python"
    }
  },
  "cells": [
    {
      "cell_type": "markdown",
      "metadata": {
        "id": "view-in-github",
        "colab_type": "text"
      },
      "source": [
        "<a href=\"https://colab.research.google.com/github/chiruconew/EXTRA/blob/main/MODELO.ipynb\" target=\"_parent\"><img src=\"https://colab.research.google.com/assets/colab-badge.svg\" alt=\"Open In Colab\"/></a>"
      ]
    },
    {
      "cell_type": "markdown",
      "metadata": {
        "id": "k-JSIKLVhzuu"
      },
      "source": [
        "### 1. CARGA DEL DATA SET Y CARGA DE LIBRERIAS INICIALES"
      ]
    },
    {
      "cell_type": "code",
      "metadata": {
        "id": "aIEgsbNOh1_r"
      },
      "source": [
        "import pandas as pd\n",
        "import numpy as np\n",
        "import matplotlib.pyplot as plt\n",
        "import seaborn as sns\n",
        "import plotly.express as px\n",
        "import plotly.graph_objects as go"
      ],
      "execution_count": 340,
      "outputs": []
    },
    {
      "cell_type": "code",
      "metadata": {
        "id": "uSVJRarxiKi7"
      },
      "source": [
        "url = 'https://raw.githubusercontent.com/chiruconew/EXTRA/main/data_set_dg.csv'\n",
        "df  = pd.read_csv(url)"
      ],
      "execution_count": 341,
      "outputs": []
    },
    {
      "cell_type": "code",
      "metadata": {
        "colab": {
          "base_uri": "https://localhost:8080/",
          "height": 267
        },
        "id": "CzQOS_oCiWsD",
        "outputId": "78549dd4-1c29-4f5f-f81c-175b8cc1607f"
      },
      "source": [
        "df.head()"
      ],
      "execution_count": 342,
      "outputs": [
        {
          "output_type": "execute_result",
          "data": {
            "text/html": [
              "<div>\n",
              "<style scoped>\n",
              "    .dataframe tbody tr th:only-of-type {\n",
              "        vertical-align: middle;\n",
              "    }\n",
              "\n",
              "    .dataframe tbody tr th {\n",
              "        vertical-align: top;\n",
              "    }\n",
              "\n",
              "    .dataframe thead th {\n",
              "        text-align: right;\n",
              "    }\n",
              "</style>\n",
              "<table border=\"1\" class=\"dataframe\">\n",
              "  <thead>\n",
              "    <tr style=\"text-align: right;\">\n",
              "      <th></th>\n",
              "      <th>TELEFONO</th>\n",
              "      <th>CUOTA_BASICA</th>\n",
              "      <th>TIPO_PRODUCTO</th>\n",
              "      <th>CAPACIDAD_PLAN_DATOS</th>\n",
              "      <th>NIT</th>\n",
              "      <th>ANEXOS_HOME</th>\n",
              "      <th>ANEXOS_MOBILE</th>\n",
              "      <th>MESES_CLIENTE_ANTIGUEDAD</th>\n",
              "      <th>MESES_CONTRATO</th>\n",
              "      <th>DEPARTAMENTO_GUATEMALA</th>\n",
              "      <th>INICIO_DE_CONTRATO</th>\n",
              "      <th>SUBSIDIO</th>\n",
              "      <th>PAGO_DEVICE_CLIENTE</th>\n",
              "      <th>PROMEDIO_CONSUMO_DATOS_GB</th>\n",
              "      <th>CONSUMO_PORCENT_CUOTA</th>\n",
              "      <th>FACTURAS_PAGADAS_EN_TIEMPO</th>\n",
              "      <th>FACTURAS_PAGADAS_TARDE</th>\n",
              "      <th>CANTIDAD_ABONOS_PARA_PAGAR_AVG</th>\n",
              "      <th>AVG_DIAS_PAGO_A_TIEMPO</th>\n",
              "      <th>AVG_DIAS_PAGO_TARDE</th>\n",
              "      <th>DOWNSELL</th>\n",
              "    </tr>\n",
              "  </thead>\n",
              "  <tbody>\n",
              "    <tr>\n",
              "      <th>0</th>\n",
              "      <td>52017983</td>\n",
              "      <td>198.9904</td>\n",
              "      <td>C</td>\n",
              "      <td>5</td>\n",
              "      <td>153912-4</td>\n",
              "      <td>0.0</td>\n",
              "      <td>1.0</td>\n",
              "      <td>246.0</td>\n",
              "      <td>18.0</td>\n",
              "      <td>GUATEMALA</td>\n",
              "      <td>06-OCT-16 00:00:00</td>\n",
              "      <td>NaN</td>\n",
              "      <td>NaN</td>\n",
              "      <td>1.0</td>\n",
              "      <td>0.18</td>\n",
              "      <td>0.0</td>\n",
              "      <td>10.0</td>\n",
              "      <td>1.0</td>\n",
              "      <td>0.0</td>\n",
              "      <td>-4.0</td>\n",
              "      <td>NO</td>\n",
              "    </tr>\n",
              "    <tr>\n",
              "      <th>1</th>\n",
              "      <td>55287011</td>\n",
              "      <td>499.0048</td>\n",
              "      <td>C</td>\n",
              "      <td>20</td>\n",
              "      <td>4930230-2</td>\n",
              "      <td>3.0</td>\n",
              "      <td>2.0</td>\n",
              "      <td>200.0</td>\n",
              "      <td>24.0</td>\n",
              "      <td>ESCUINTLA</td>\n",
              "      <td>07-JAN-19 00:00:00</td>\n",
              "      <td>3042.17</td>\n",
              "      <td>1607.14</td>\n",
              "      <td>10.0</td>\n",
              "      <td>0.51</td>\n",
              "      <td>8.0</td>\n",
              "      <td>2.0</td>\n",
              "      <td>1.0</td>\n",
              "      <td>2.0</td>\n",
              "      <td>-1.0</td>\n",
              "      <td>NO</td>\n",
              "    </tr>\n",
              "    <tr>\n",
              "      <th>2</th>\n",
              "      <td>53187495</td>\n",
              "      <td>298.9952</td>\n",
              "      <td>C</td>\n",
              "      <td>15</td>\n",
              "      <td>1199130-5</td>\n",
              "      <td>0.0</td>\n",
              "      <td>3.0</td>\n",
              "      <td>98.0</td>\n",
              "      <td>24.0</td>\n",
              "      <td>GUATEMALA</td>\n",
              "      <td>03-JAN-20 00:00:00</td>\n",
              "      <td>1237.57</td>\n",
              "      <td>207.36</td>\n",
              "      <td>5.0</td>\n",
              "      <td>0.33</td>\n",
              "      <td>10.0</td>\n",
              "      <td>0.0</td>\n",
              "      <td>1.0</td>\n",
              "      <td>8.0</td>\n",
              "      <td>0.0</td>\n",
              "      <td>NO</td>\n",
              "    </tr>\n",
              "    <tr>\n",
              "      <th>3</th>\n",
              "      <td>57813259</td>\n",
              "      <td>224.9968</td>\n",
              "      <td>Q</td>\n",
              "      <td>14</td>\n",
              "      <td>87103923</td>\n",
              "      <td>0.0</td>\n",
              "      <td>1.0</td>\n",
              "      <td>39.0</td>\n",
              "      <td>0.0</td>\n",
              "      <td>SOLOLA</td>\n",
              "      <td>21-AUG-20 00:00:00</td>\n",
              "      <td>NaN</td>\n",
              "      <td>NaN</td>\n",
              "      <td>18.0</td>\n",
              "      <td>1.29</td>\n",
              "      <td>4.0</td>\n",
              "      <td>4.0</td>\n",
              "      <td>1.0</td>\n",
              "      <td>17.0</td>\n",
              "      <td>-18.0</td>\n",
              "      <td>NO</td>\n",
              "    </tr>\n",
              "    <tr>\n",
              "      <th>4</th>\n",
              "      <td>40152016</td>\n",
              "      <td>298.9952</td>\n",
              "      <td>C</td>\n",
              "      <td>15</td>\n",
              "      <td>1526520-K</td>\n",
              "      <td>0.0</td>\n",
              "      <td>1.0</td>\n",
              "      <td>16.0</td>\n",
              "      <td>24.0</td>\n",
              "      <td>SAN MARCOS</td>\n",
              "      <td>15-NOV-19 00:00:00</td>\n",
              "      <td>1441.82</td>\n",
              "      <td>0.90</td>\n",
              "      <td>8.0</td>\n",
              "      <td>0.50</td>\n",
              "      <td>6.0</td>\n",
              "      <td>4.0</td>\n",
              "      <td>2.0</td>\n",
              "      <td>18.0</td>\n",
              "      <td>-5.0</td>\n",
              "      <td>NO</td>\n",
              "    </tr>\n",
              "  </tbody>\n",
              "</table>\n",
              "</div>"
            ],
            "text/plain": [
              "   TELEFONO  CUOTA_BASICA  ... AVG_DIAS_PAGO_TARDE  DOWNSELL\n",
              "0  52017983      198.9904  ...                -4.0        NO\n",
              "1  55287011      499.0048  ...                -1.0        NO\n",
              "2  53187495      298.9952  ...                 0.0        NO\n",
              "3  57813259      224.9968  ...               -18.0        NO\n",
              "4  40152016      298.9952  ...                -5.0        NO\n",
              "\n",
              "[5 rows x 21 columns]"
            ]
          },
          "metadata": {
            "tags": []
          },
          "execution_count": 342
        }
      ]
    },
    {
      "cell_type": "markdown",
      "metadata": {
        "id": "K_iuj_cFpA1L"
      },
      "source": [
        "**BORRAMOS LOS NA**"
      ]
    },
    {
      "cell_type": "code",
      "metadata": {
        "id": "nZnbznKZicfd"
      },
      "source": [
        "df_recortado = df.dropna()"
      ],
      "execution_count": 343,
      "outputs": []
    },
    {
      "cell_type": "markdown",
      "metadata": {
        "id": "1I4qnaHEpFly"
      },
      "source": [
        "**CONVERTTIMOS LA CLASE EN NUMERICA**"
      ]
    },
    {
      "cell_type": "code",
      "metadata": {
        "colab": {
          "base_uri": "https://localhost:8080/"
        },
        "id": "r7IZV7cci16z",
        "outputId": "aba68cce-01ae-4931-c6df-202a3b3763b4"
      },
      "source": [
        "df_recortado['DOWNSELL'].replace({\"NO\": 0, \"SI\": 1}, inplace=True)"
      ],
      "execution_count": 344,
      "outputs": [
        {
          "output_type": "stream",
          "text": [
            "/usr/local/lib/python3.7/dist-packages/pandas/core/series.py:4582: SettingWithCopyWarning:\n",
            "\n",
            "\n",
            "A value is trying to be set on a copy of a slice from a DataFrame\n",
            "\n",
            "See the caveats in the documentation: https://pandas.pydata.org/pandas-docs/stable/user_guide/indexing.html#returning-a-view-versus-a-copy\n",
            "\n"
          ],
          "name": "stderr"
        }
      ]
    },
    {
      "cell_type": "markdown",
      "metadata": {
        "id": "96qteEtdpQdk"
      },
      "source": [
        "**ELIMINAMOS LAS COLUMNAS TELEFONO, NIT, e INICIO_DE_CONTRATO**"
      ]
    },
    {
      "cell_type": "code",
      "metadata": {
        "id": "tm0xAQ_MoQ_d"
      },
      "source": [
        "df_recortado = df_recortado.drop(['TELEFONO','NIT','INICIO_DE_CONTRATO'], axis=1)"
      ],
      "execution_count": 345,
      "outputs": []
    },
    {
      "cell_type": "markdown",
      "metadata": {
        "id": "ZVVcNsh9pXt8"
      },
      "source": [
        ""
      ]
    },
    {
      "cell_type": "code",
      "metadata": {
        "colab": {
          "base_uri": "https://localhost:8080/"
        },
        "id": "88KyyiO_pYoM",
        "outputId": "f3b247b9-dbf6-45db-ba00-d99c36fad27e"
      },
      "source": [
        "df_recortado.info()"
      ],
      "execution_count": 346,
      "outputs": [
        {
          "output_type": "stream",
          "text": [
            "<class 'pandas.core.frame.DataFrame'>\n",
            "Int64Index: 10157 entries, 1 to 17466\n",
            "Data columns (total 18 columns):\n",
            " #   Column                          Non-Null Count  Dtype  \n",
            "---  ------                          --------------  -----  \n",
            " 0   CUOTA_BASICA                    10157 non-null  float64\n",
            " 1   TIPO_PRODUCTO                   10157 non-null  object \n",
            " 2   CAPACIDAD_PLAN_DATOS            10157 non-null  int64  \n",
            " 3   ANEXOS_HOME                     10157 non-null  float64\n",
            " 4   ANEXOS_MOBILE                   10157 non-null  float64\n",
            " 5   MESES_CLIENTE_ANTIGUEDAD        10157 non-null  float64\n",
            " 6   MESES_CONTRATO                  10157 non-null  float64\n",
            " 7   DEPARTAMENTO_GUATEMALA          10157 non-null  object \n",
            " 8   SUBSIDIO                        10157 non-null  float64\n",
            " 9   PAGO_DEVICE_CLIENTE             10157 non-null  float64\n",
            " 10  PROMEDIO_CONSUMO_DATOS_GB       10157 non-null  float64\n",
            " 11  CONSUMO_PORCENT_CUOTA           10157 non-null  float64\n",
            " 12  FACTURAS_PAGADAS_EN_TIEMPO      10157 non-null  float64\n",
            " 13  FACTURAS_PAGADAS_TARDE          10157 non-null  float64\n",
            " 14  CANTIDAD_ABONOS_PARA_PAGAR_AVG  10157 non-null  float64\n",
            " 15  AVG_DIAS_PAGO_A_TIEMPO          10157 non-null  float64\n",
            " 16  AVG_DIAS_PAGO_TARDE             10157 non-null  float64\n",
            " 17  DOWNSELL                        10157 non-null  int64  \n",
            "dtypes: float64(14), int64(2), object(2)\n",
            "memory usage: 1.5+ MB\n"
          ],
          "name": "stdout"
        }
      ]
    },
    {
      "cell_type": "code",
      "metadata": {
        "id": "jM9gBVDiptIP"
      },
      "source": [
        ""
      ],
      "execution_count": 346,
      "outputs": []
    },
    {
      "cell_type": "markdown",
      "metadata": {
        "id": "gUBsC3TFpthE"
      },
      "source": [
        "##2.PREPROCESING"
      ]
    },
    {
      "cell_type": "markdown",
      "metadata": {
        "id": "U0TF0Hi6qFg2"
      },
      "source": [
        "**Utilizamos ONE HOT ENCODE PARA EL TIPO DE PRODUCTO**"
      ]
    },
    {
      "cell_type": "code",
      "metadata": {
        "colab": {
          "base_uri": "https://localhost:8080/"
        },
        "id": "nsFIV7RSrEEZ",
        "outputId": "6f22655b-ce00-491c-fc0c-3971e6c32156"
      },
      "source": [
        "!pip install category_encoders"
      ],
      "execution_count": 347,
      "outputs": [
        {
          "output_type": "stream",
          "text": [
            "Requirement already satisfied: category_encoders in /usr/local/lib/python3.7/dist-packages (2.2.2)\n",
            "Requirement already satisfied: statsmodels>=0.9.0 in /usr/local/lib/python3.7/dist-packages (from category_encoders) (0.10.2)\n",
            "Requirement already satisfied: patsy>=0.5.1 in /usr/local/lib/python3.7/dist-packages (from category_encoders) (0.5.1)\n",
            "Requirement already satisfied: pandas>=0.21.1 in /usr/local/lib/python3.7/dist-packages (from category_encoders) (1.1.5)\n",
            "Requirement already satisfied: numpy>=1.14.0 in /usr/local/lib/python3.7/dist-packages (from category_encoders) (1.19.5)\n",
            "Requirement already satisfied: scipy>=1.0.0 in /usr/local/lib/python3.7/dist-packages (from category_encoders) (1.4.1)\n",
            "Requirement already satisfied: scikit-learn>=0.20.0 in /usr/local/lib/python3.7/dist-packages (from category_encoders) (0.22.2.post1)\n",
            "Requirement already satisfied: six in /usr/local/lib/python3.7/dist-packages (from patsy>=0.5.1->category_encoders) (1.15.0)\n",
            "Requirement already satisfied: python-dateutil>=2.7.3 in /usr/local/lib/python3.7/dist-packages (from pandas>=0.21.1->category_encoders) (2.8.1)\n",
            "Requirement already satisfied: pytz>=2017.2 in /usr/local/lib/python3.7/dist-packages (from pandas>=0.21.1->category_encoders) (2018.9)\n",
            "Requirement already satisfied: joblib>=0.11 in /usr/local/lib/python3.7/dist-packages (from scikit-learn>=0.20.0->category_encoders) (1.0.1)\n"
          ],
          "name": "stdout"
        }
      ]
    },
    {
      "cell_type": "code",
      "metadata": {
        "id": "ZYZLNFgRpvJ1"
      },
      "source": [
        "from category_encoders import OneHotEncoder"
      ],
      "execution_count": 348,
      "outputs": []
    },
    {
      "cell_type": "code",
      "metadata": {
        "colab": {
          "base_uri": "https://localhost:8080/"
        },
        "id": "niPMC7jzpvv0",
        "outputId": "05b1d9a9-2782-4012-f15e-c0a0b8bdcc18"
      },
      "source": [
        "onehot_enc = OneHotEncoder( use_cat_names=True)\n",
        "df_train_tipoprod = onehot_enc.fit_transform(df_recortado['TIPO_PRODUCTO'])\n",
        "df_recortado = pd.concat([df_recortado, df_train_tipoprod], axis=1)\n"
      ],
      "execution_count": 349,
      "outputs": [
        {
          "output_type": "stream",
          "text": [
            "/usr/local/lib/python3.7/dist-packages/category_encoders/utils.py:21: FutureWarning:\n",
            "\n",
            "is_categorical is deprecated and will be removed in a future version.  Use is_categorical_dtype instead\n",
            "\n"
          ],
          "name": "stderr"
        }
      ]
    },
    {
      "cell_type": "code",
      "metadata": {
        "id": "F7p7U8CPpwKN"
      },
      "source": [
        "df_recortado = df_recortado.drop(['TIPO_PRODUCTO'], axis=1)"
      ],
      "execution_count": 350,
      "outputs": []
    },
    {
      "cell_type": "code",
      "metadata": {
        "id": "mwGFmo2vsxRT"
      },
      "source": [
        ""
      ],
      "execution_count": 350,
      "outputs": []
    },
    {
      "cell_type": "markdown",
      "metadata": {
        "id": "eGVC-dcUta2Y"
      },
      "source": [
        "**Utlilizamos en Frequency para el conteo de Departamentos**"
      ]
    },
    {
      "cell_type": "code",
      "metadata": {
        "id": "BB0KoFm6tVCB"
      },
      "source": [
        "from category_encoders import CountEncoder\n",
        "count_enc_depto = CountEncoder( combine_min_nan_groups=True, min_group_size=35,min_group_name='OTROS')\n",
        "df_recortado['DEPARTAMENTO_TRANS'] = count_enc_depto.fit_transform(df_recortado['DEPARTAMENTO_GUATEMALA'])\n"
      ],
      "execution_count": 351,
      "outputs": []
    },
    {
      "cell_type": "code",
      "metadata": {
        "colab": {
          "base_uri": "https://localhost:8080/"
        },
        "id": "Q0woOyj0tqTp",
        "outputId": "8f93658f-45fc-4022-80e6-a3378e89a25a"
      },
      "source": [
        "df_recortado = df_recortado.drop(['DEPARTAMENTO_GUATEMALA'], axis=1)\n",
        "df_recortado.info()"
      ],
      "execution_count": 352,
      "outputs": [
        {
          "output_type": "stream",
          "text": [
            "<class 'pandas.core.frame.DataFrame'>\n",
            "Int64Index: 10157 entries, 1 to 17466\n",
            "Data columns (total 20 columns):\n",
            " #   Column                          Non-Null Count  Dtype  \n",
            "---  ------                          --------------  -----  \n",
            " 0   CUOTA_BASICA                    10157 non-null  float64\n",
            " 1   CAPACIDAD_PLAN_DATOS            10157 non-null  int64  \n",
            " 2   ANEXOS_HOME                     10157 non-null  float64\n",
            " 3   ANEXOS_MOBILE                   10157 non-null  float64\n",
            " 4   MESES_CLIENTE_ANTIGUEDAD        10157 non-null  float64\n",
            " 5   MESES_CONTRATO                  10157 non-null  float64\n",
            " 6   SUBSIDIO                        10157 non-null  float64\n",
            " 7   PAGO_DEVICE_CLIENTE             10157 non-null  float64\n",
            " 8   PROMEDIO_CONSUMO_DATOS_GB       10157 non-null  float64\n",
            " 9   CONSUMO_PORCENT_CUOTA           10157 non-null  float64\n",
            " 10  FACTURAS_PAGADAS_EN_TIEMPO      10157 non-null  float64\n",
            " 11  FACTURAS_PAGADAS_TARDE          10157 non-null  float64\n",
            " 12  CANTIDAD_ABONOS_PARA_PAGAR_AVG  10157 non-null  float64\n",
            " 13  AVG_DIAS_PAGO_A_TIEMPO          10157 non-null  float64\n",
            " 14  AVG_DIAS_PAGO_TARDE             10157 non-null  float64\n",
            " 15  DOWNSELL                        10157 non-null  int64  \n",
            " 16  TIPO_PRODUCTO_C                 10157 non-null  int64  \n",
            " 17  TIPO_PRODUCTO_A                 10157 non-null  int64  \n",
            " 18  TIPO_PRODUCTO_Q                 10157 non-null  int64  \n",
            " 19  DEPARTAMENTO_TRANS              10157 non-null  int64  \n",
            "dtypes: float64(14), int64(6)\n",
            "memory usage: 1.6 MB\n"
          ],
          "name": "stdout"
        }
      ]
    },
    {
      "cell_type": "markdown",
      "metadata": {
        "id": "hL_65jc3ugBK"
      },
      "source": [
        "**VAMOS A SEPARAR EN TRAIN Y TEST**"
      ]
    },
    {
      "cell_type": "markdown",
      "metadata": {
        "id": "4m9dieSTwCxw"
      },
      "source": [
        "Necesitamos convertir el dataframe en ARRAY DE NUMPY para poder utilizar la funcion de Stratify y partir un dataset Desbalanceado"
      ]
    },
    {
      "cell_type": "code",
      "metadata": {
        "id": "9g43qLsmmMXt"
      },
      "source": [
        "import numpy as np"
      ],
      "execution_count": 353,
      "outputs": []
    },
    {
      "cell_type": "code",
      "metadata": {
        "id": "xwuBKFBcwXvZ"
      },
      "source": [
        "from sklearn.model_selection import train_test_split"
      ],
      "execution_count": 354,
      "outputs": []
    },
    {
      "cell_type": "code",
      "metadata": {
        "id": "fpnwP03Byyvr"
      },
      "source": [
        "X_df =  df_recortado.drop(['DOWNSELL'], axis=1)"
      ],
      "execution_count": 355,
      "outputs": []
    },
    {
      "cell_type": "code",
      "metadata": {
        "id": "1CIdqPqKzAde"
      },
      "source": [
        "y_df = df_recortado['DOWNSELL']"
      ],
      "execution_count": 356,
      "outputs": []
    },
    {
      "cell_type": "code",
      "metadata": {
        "id": "GxaME3DAzPPF"
      },
      "source": [
        "X = X_df.to_numpy()\n",
        "y = y_df.to_numpy()"
      ],
      "execution_count": 357,
      "outputs": []
    },
    {
      "cell_type": "code",
      "metadata": {
        "id": "ixNn6OmMx7EZ"
      },
      "source": [
        "X_train, X_test, y_train, y_test = train_test_split(X,y,test_size =0.2,stratify = y)"
      ],
      "execution_count": 358,
      "outputs": []
    },
    {
      "cell_type": "markdown",
      "metadata": {
        "id": "Em7xTVBy1WnO"
      },
      "source": [
        "**Usaremos una regresion Logistica, basada en el X_train y X_test, que separamos anteriormente**"
      ]
    },
    {
      "cell_type": "code",
      "metadata": {
        "colab": {
          "base_uri": "https://localhost:8080/"
        },
        "id": "8UXwkfjs1Cfz",
        "outputId": "31754881-90fe-481e-cb0b-9e0a4190a2a6"
      },
      "source": [
        "from sklearn.linear_model import LogisticRegression\n",
        "regresion_logistica = LogisticRegression( max_iter=20000)\n",
        "regresion_logistica.fit(X,y)\n"
      ],
      "execution_count": 359,
      "outputs": [
        {
          "output_type": "execute_result",
          "data": {
            "text/plain": [
              "LogisticRegression(C=1.0, class_weight=None, dual=False, fit_intercept=True,\n",
              "                   intercept_scaling=1, l1_ratio=None, max_iter=20000,\n",
              "                   multi_class='auto', n_jobs=None, penalty='l2',\n",
              "                   random_state=None, solver='lbfgs', tol=0.0001, verbose=0,\n",
              "                   warm_start=False)"
            ]
          },
          "metadata": {
            "tags": []
          },
          "execution_count": 359
        }
      ]
    },
    {
      "cell_type": "code",
      "metadata": {
        "colab": {
          "base_uri": "https://localhost:8080/"
        },
        "id": "U9WLMFuOKIQw",
        "outputId": "a1861da9-6a04-4980-ddba-eadff0a55a38"
      },
      "source": [
        "score = regresion_logistica.score(X, y)\n",
        "print(\"Accuracy: \",f\"{score}\")"
      ],
      "execution_count": 360,
      "outputs": [
        {
          "output_type": "stream",
          "text": [
            "Accuracy:  0.9454563355321454\n"
          ],
          "name": "stdout"
        }
      ]
    },
    {
      "cell_type": "markdown",
      "metadata": {
        "id": "GQJ3L00_2gzA"
      },
      "source": [
        "**Con la regrersion logistica no Converge, asumimos que es a raiz de que las variables numericas, aun no han sido normalizadas**"
      ]
    },
    {
      "cell_type": "code",
      "metadata": {
        "id": "Kx3fJQIh2yFV"
      },
      "source": [
        "from sklearn.tree import DecisionTreeClassifier"
      ],
      "execution_count": 361,
      "outputs": []
    },
    {
      "cell_type": "code",
      "metadata": {
        "colab": {
          "base_uri": "https://localhost:8080/"
        },
        "id": "mp0ZtD7J2ynN",
        "outputId": "9ed3dcac-cbd2-4329-e9f5-83beabd11fdb"
      },
      "source": [
        "tree = DecisionTreeClassifier()\n",
        "tree.fit(X_df, y_df)"
      ],
      "execution_count": 362,
      "outputs": [
        {
          "output_type": "execute_result",
          "data": {
            "text/plain": [
              "DecisionTreeClassifier(ccp_alpha=0.0, class_weight=None, criterion='gini',\n",
              "                       max_depth=None, max_features=None, max_leaf_nodes=None,\n",
              "                       min_impurity_decrease=0.0, min_impurity_split=None,\n",
              "                       min_samples_leaf=1, min_samples_split=2,\n",
              "                       min_weight_fraction_leaf=0.0, presort='deprecated',\n",
              "                       random_state=None, splitter='best')"
            ]
          },
          "metadata": {
            "tags": []
          },
          "execution_count": 362
        }
      ]
    },
    {
      "cell_type": "markdown",
      "metadata": {
        "id": "X2iHav8_4lHd"
      },
      "source": [
        "## TRANSFORMATION"
      ]
    },
    {
      "cell_type": "markdown",
      "metadata": {
        "id": "BPqfpfrs4qyE"
      },
      "source": [
        "**NOrmalizamos las variables numericas, con el proposito que converga**"
      ]
    },
    {
      "cell_type": "markdown",
      "metadata": {
        "id": "gw3SiHZA5rlt"
      },
      "source": [
        "Iniciamos con la Capacidad del Plan de Datos, con ONE HOT ENCONDER"
      ]
    },
    {
      "cell_type": "code",
      "metadata": {
        "id": "cIlIa0Ae4yB0"
      },
      "source": [
        "from category_encoders import OneHotEncoder"
      ],
      "execution_count": 363,
      "outputs": []
    },
    {
      "cell_type": "code",
      "metadata": {
        "colab": {
          "base_uri": "https://localhost:8080/"
        },
        "id": "NdR7uooQ52Ij",
        "outputId": "74a4475f-1b9f-4d4d-f1f2-5b02fba6f23b"
      },
      "source": [
        "X_df['CAP_PLAN_ENC'] = df_recortado['CAPACIDAD_PLAN_DATOS'].astype(str)\n",
        "onehot_enc = OneHotEncoder( use_cat_names=True)\n",
        "X_caplan = onehot_enc.fit_transform(X_df['CAP_PLAN_ENC'])\n",
        "X_df = pd.concat([X_df, X_caplan], axis=1)\n",
        "X_df = X_df.drop(['CAPACIDAD_PLAN_DATOS','CAP_PLAN_ENC'], axis=1)"
      ],
      "execution_count": 364,
      "outputs": [
        {
          "output_type": "stream",
          "text": [
            "/usr/local/lib/python3.7/dist-packages/category_encoders/utils.py:21: FutureWarning:\n",
            "\n",
            "is_categorical is deprecated and will be removed in a future version.  Use is_categorical_dtype instead\n",
            "\n"
          ],
          "name": "stderr"
        }
      ]
    },
    {
      "cell_type": "markdown",
      "metadata": {
        "id": "TEIw8CjY64zm"
      },
      "source": [
        "Vamos a transformar la Cuota Basica"
      ]
    },
    {
      "cell_type": "code",
      "metadata": {
        "id": "Ec2f8Rhz6_zs"
      },
      "source": [
        "from sklearn.preprocessing import MinMaxScaler"
      ],
      "execution_count": 365,
      "outputs": []
    },
    {
      "cell_type": "code",
      "metadata": {
        "id": "bnaNGcd47FhT"
      },
      "source": [
        "scaler = MinMaxScaler()\n",
        "col_name = 'CUOTA_BASICA'\n",
        "trans_col_name = 'CUOTA_BASICA_MM'\n",
        "X_df[trans_col_name] = scaler.fit_transform(X_df[[col_name]])\n",
        "X_df = X_df.drop(['CUOTA_BASICA'], axis=1)"
      ],
      "execution_count": 366,
      "outputs": []
    },
    {
      "cell_type": "markdown",
      "metadata": {
        "id": "oucIqoBP8pVE"
      },
      "source": [
        "Pasaremos las variables Anexos Home y Anexos Movil que son numericas, las convertiremos en variables Categoricas"
      ]
    },
    {
      "cell_type": "code",
      "metadata": {
        "id": "zJnwxFTN84Xv"
      },
      "source": [
        "X_df.loc[X_df['ANEXOS_MOBILE'] == 0, 'ANEXOS_TRANS'] = 0\n",
        "X_df.loc[X_df['ANEXOS_MOBILE'] != 0, 'ANEXOS_TRANS'] = 1\n",
        "X_df.loc[X_df['ANEXOS_HOME'] == 0, 'ANEXOS_TRANS_2'] = 0\n",
        "X_df.loc[X_df['ANEXOS_HOME'] != 0, 'ANEXOS_TRANS_2'] = 1\n",
        "X_df['ANEXOS_TRANS_V'] = X_df['ANEXOS_TRANS'] + X_df['ANEXOS_TRANS_2']"
      ],
      "execution_count": 367,
      "outputs": []
    },
    {
      "cell_type": "code",
      "metadata": {
        "id": "dmueZhJJ96GL"
      },
      "source": [
        "X_df = X_df.drop(['ANEXOS_MOBILE','ANEXOS_HOME'], axis=1)"
      ],
      "execution_count": 368,
      "outputs": []
    },
    {
      "cell_type": "markdown",
      "metadata": {
        "id": "TG4l1uu5-DJJ"
      },
      "source": [
        "Transformaremos los meses de antiguedad del cliente a una distribucion lo mas normal posible a traves de Power Transform Yeo-Johnson"
      ]
    },
    {
      "cell_type": "code",
      "metadata": {
        "id": "TWfw9tvZ-qMS"
      },
      "source": [
        "from sklearn.preprocessing import PowerTransformer"
      ],
      "execution_count": 369,
      "outputs": []
    },
    {
      "cell_type": "code",
      "metadata": {
        "id": "rCzVsiK_-xYL"
      },
      "source": [
        "scaler = PowerTransformer()\n",
        "col_name ='MESES_CLIENTE_ANTIGUEDAD'\n",
        "trans_col_name='MESES_CLIENTE_ANTIGUEDAD_PW'\n",
        "X_df[trans_col_name] = scaler.fit_transform(X_df[[col_name]])\n",
        "X_df = X_df.drop(['MESES_CLIENTE_ANTIGUEDAD'], axis=1)"
      ],
      "execution_count": 370,
      "outputs": []
    },
    {
      "cell_type": "markdown",
      "metadata": {
        "id": "6uASywRz_8yI"
      },
      "source": [
        "Vamos a convertir los meses de contrato del cliente en una variable categorica a traves de CountEncoder"
      ]
    },
    {
      "cell_type": "code",
      "metadata": {
        "id": "uqxk6uvgAN_H"
      },
      "source": [
        "from category_encoders import CountEncoder"
      ],
      "execution_count": 371,
      "outputs": []
    },
    {
      "cell_type": "code",
      "metadata": {
        "id": "0rbZMmH_AT8P"
      },
      "source": [
        "X_df.loc[X_df['MESES_CONTRATO'] == 12, 'MESES_CONT_NAME'] = 'DOCE'\n",
        "X_df.loc[X_df['MESES_CONTRATO'] == 24, 'MESES_CONT_NAME'] = 'VEINTICUATRO'\n",
        "X_df.loc[X_df['MESES_CONTRATO'] == 18, 'MESES_CONT_NAME'] = 'DIECIOCHO'"
      ],
      "execution_count": 372,
      "outputs": []
    },
    {
      "cell_type": "code",
      "metadata": {
        "id": "W9tDiz68A08a"
      },
      "source": [
        "count_enc_meses = CountEncoder(normalize=True)"
      ],
      "execution_count": 373,
      "outputs": []
    },
    {
      "cell_type": "code",
      "metadata": {
        "id": "laYMWksRA1Tx"
      },
      "source": [
        "X_df['MESES_CONT_TRANS'] = count_enc_meses.fit_transform(X_df['MESES_CONT_NAME'])\n",
        "X_df = X_df.drop(['MESES_CONT_NAME','MESES_CONTRATO'], axis=1)"
      ],
      "execution_count": 374,
      "outputs": []
    },
    {
      "cell_type": "markdown",
      "metadata": {
        "id": "4W4_Ed5gBgCB"
      },
      "source": [
        "Vamos transfomar el Subisidio a traves de QuantileTransformer"
      ]
    },
    {
      "cell_type": "code",
      "metadata": {
        "id": "w_MBawZxC8QD"
      },
      "source": [
        "from sklearn.preprocessing import QuantileTransformer\n",
        "subsidio_scaler = QuantileTransformer( output_distribution='normal')\n",
        "col_name = 'SUBSIDIO'\n",
        "trans_col_name = 'SUBSIDIO_QT'\n",
        "X_df[trans_col_name] = subsidio_scaler.fit_transform(X_df[[col_name]])\n",
        "X_df = X_df.drop(['SUBSIDIO'], axis=1)"
      ],
      "execution_count": 375,
      "outputs": []
    },
    {
      "cell_type": "markdown",
      "metadata": {
        "id": "tfgwZKV9EPR2"
      },
      "source": [
        "Vamos transfomar la variable PAGO DEVICE CLIENTE, a traves de POWER TRANSFORM"
      ]
    },
    {
      "cell_type": "code",
      "metadata": {
        "id": "CycFaY3tEX0E"
      },
      "source": [
        "X_df['PAGO_DEVICE_CLIENTE'] = X_df['PAGO_DEVICE_CLIENTE'].abs() \n",
        "pagoCliente_scaler = PowerTransformer()\n",
        "col_name = 'PAGO_DEVICE_CLIENTE'\n",
        "trans_col_name = 'PAGO_DEVICE_CLIENTE_PT'\n",
        "X_df[trans_col_name] = pagoCliente_scaler.fit_transform(X_df[[col_name]])\n",
        "X_df = X_df.drop(['PAGO_DEVICE_CLIENTE'], axis=1)"
      ],
      "execution_count": 376,
      "outputs": []
    },
    {
      "cell_type": "markdown",
      "metadata": {
        "id": "m-dQoCwYE1CQ"
      },
      "source": [
        "Vamos a transformar la variable AVG_DIAS_PAGO_A_TIEMPO y AVG_DIAS_PAGO_TARDE con MinMax Scale"
      ]
    },
    {
      "cell_type": "code",
      "metadata": {
        "id": "Iw3Umiy2FPrp"
      },
      "source": [
        "scaler = MinMaxScaler()\n",
        "\n",
        "col_name = 'AVG_DIAS_PAGO_TARDE'\n",
        "trans_col_name = 'AVG_DIAS_PAGO_TARDE_MM'\n",
        "X_df[trans_col_name] = scaler.fit_transform(X_df[[col_name]])\n",
        "X_df = X_df.drop(['AVG_DIAS_PAGO_TARDE'], axis=1)\n",
        "\n",
        "col_name = 'AVG_DIAS_PAGO_A_TIEMPO'\n",
        "trans_col_name = 'AVG_DIAS_PAGO_A_TIEMPO_MM'\n",
        "X_df[trans_col_name] = scaler.fit_transform(X_df[[col_name]])\n",
        "X_df = X_df.drop(['AVG_DIAS_PAGO_A_TIEMPO'], axis=1)\n",
        "\n"
      ],
      "execution_count": 377,
      "outputs": []
    },
    {
      "cell_type": "markdown",
      "metadata": {
        "id": "nWInzdGmHeLG"
      },
      "source": [
        "Vamos a crear una nueva variable categorica a partir de las variables numericas FACTURAS_PAGADAS_EN_TIEMPO y FACTURAS_PAGADAS_TARDE, y quedara con un RATIO"
      ]
    },
    {
      "cell_type": "code",
      "metadata": {
        "id": "WFeOwV0UGw3e"
      },
      "source": [
        "X_df['POR_PAGO_FACTURAS'] = X_df['FACTURAS_PAGADAS_EN_TIEMPO'] / (X_df['FACTURAS_PAGADAS_TARDE'] + X_df['FACTURAS_PAGADAS_EN_TIEMPO'])\n",
        "X_df = X_df.drop(['FACTURAS_PAGADAS_EN_TIEMPO','FACTURAS_PAGADAS_TARDE'], axis=1)\n"
      ],
      "execution_count": 378,
      "outputs": []
    },
    {
      "cell_type": "code",
      "metadata": {
        "id": "V0fjxCHaIVFM"
      },
      "source": [
        "X_df = X_df.drop(['CANTIDAD_ABONOS_PARA_PAGAR_AVG','PROMEDIO_CONSUMO_DATOS_GB'], axis=1)"
      ],
      "execution_count": 379,
      "outputs": []
    },
    {
      "cell_type": "markdown",
      "metadata": {
        "id": "idknylrdIxN9"
      },
      "source": [
        "**Probaremos con el modelo de Regresion LIneal Logistica con variables transformadas para ver si converge**"
      ]
    },
    {
      "cell_type": "code",
      "metadata": {
        "id": "ul_8OQ96JAdv"
      },
      "source": [
        "X = X_df.to_numpy()\n",
        "y = y_df.to_numpy()"
      ],
      "execution_count": 380,
      "outputs": []
    },
    {
      "cell_type": "code",
      "metadata": {
        "id": "_GrEV90OJQTr"
      },
      "source": [
        "X_train, X_test, y_train, y_test = train_test_split(X,y,test_size =0.2,stratify = y)"
      ],
      "execution_count": 381,
      "outputs": []
    },
    {
      "cell_type": "code",
      "metadata": {
        "colab": {
          "base_uri": "https://localhost:8080/"
        },
        "id": "eLY3ykkPJXy5",
        "outputId": "31431d11-2719-49a2-87e0-33ed612b917c"
      },
      "source": [
        "regresion_logistica = LogisticRegression( max_iter=20000)\n",
        "regresion_logistica.fit(X,y)"
      ],
      "execution_count": 382,
      "outputs": [
        {
          "output_type": "execute_result",
          "data": {
            "text/plain": [
              "LogisticRegression(C=1.0, class_weight=None, dual=False, fit_intercept=True,\n",
              "                   intercept_scaling=1, l1_ratio=None, max_iter=20000,\n",
              "                   multi_class='auto', n_jobs=None, penalty='l2',\n",
              "                   random_state=None, solver='lbfgs', tol=0.0001, verbose=0,\n",
              "                   warm_start=False)"
            ]
          },
          "metadata": {
            "tags": []
          },
          "execution_count": 382
        }
      ]
    },
    {
      "cell_type": "code",
      "metadata": {
        "colab": {
          "base_uri": "https://localhost:8080/"
        },
        "id": "ERwI-wCKJYsL",
        "outputId": "68d36462-9bcc-456f-de44-bb18b175d2b1"
      },
      "source": [
        "score = regresion_logistica.score(X, y)\n",
        "print(\"Accuracy: \",f\"{score}\")"
      ],
      "execution_count": 383,
      "outputs": [
        {
          "output_type": "stream",
          "text": [
            "Accuracy:  0.9501821403957862\n"
          ],
          "name": "stdout"
        }
      ]
    },
    {
      "cell_type": "markdown",
      "metadata": {
        "id": "gbKKLGJ4ITNF"
      },
      "source": [
        ""
      ]
    }
  ]
}