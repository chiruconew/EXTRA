{
  "nbformat": 4,
  "nbformat_minor": 0,
  "metadata": {
    "colab": {
      "name": "MODELO.ipynb",
      "provenance": [],
      "authorship_tag": "ABX9TyNw0PpB4KP5RMuLojv0fxes",
      "include_colab_link": true
    },
    "kernelspec": {
      "name": "python3",
      "display_name": "Python 3"
    },
    "language_info": {
      "name": "python"
    }
  },
  "cells": [
    {
      "cell_type": "markdown",
      "metadata": {
        "id": "view-in-github",
        "colab_type": "text"
      },
      "source": [
        "<a href=\"https://colab.research.google.com/github/chiruconew/EXTRA/blob/main/MODELO.ipynb\" target=\"_parent\"><img src=\"https://colab.research.google.com/assets/colab-badge.svg\" alt=\"Open In Colab\"/></a>"
      ]
    },
    {
      "cell_type": "markdown",
      "metadata": {
        "id": "k-JSIKLVhzuu"
      },
      "source": [
        "### 1. CARGA DEL DATA SET Y CARGA DE LIBRERIAS INICIALES"
      ]
    },
    {
      "cell_type": "code",
      "metadata": {
        "id": "aIEgsbNOh1_r"
      },
      "source": [
        "import pandas as pd\n",
        "import numpy as np\n",
        "import matplotlib.pyplot as plt\n",
        "import seaborn as sns\n",
        "import plotly.express as px\n",
        "import plotly.graph_objects as go"
      ],
      "execution_count": 75,
      "outputs": []
    },
    {
      "cell_type": "code",
      "metadata": {
        "id": "uSVJRarxiKi7"
      },
      "source": [
        "url = 'https://raw.githubusercontent.com/chiruconew/EXTRA/main/data_set_dg.csv'\n",
        "df  = pd.read_csv(url)"
      ],
      "execution_count": 76,
      "outputs": []
    },
    {
      "cell_type": "code",
      "metadata": {
        "colab": {
          "base_uri": "https://localhost:8080/",
          "height": 267
        },
        "id": "CzQOS_oCiWsD",
        "outputId": "996c33b2-71bb-40f9-8839-e5442ef21cdd"
      },
      "source": [
        "df.head()"
      ],
      "execution_count": 77,
      "outputs": [
        {
          "output_type": "execute_result",
          "data": {
            "text/html": [
              "<div>\n",
              "<style scoped>\n",
              "    .dataframe tbody tr th:only-of-type {\n",
              "        vertical-align: middle;\n",
              "    }\n",
              "\n",
              "    .dataframe tbody tr th {\n",
              "        vertical-align: top;\n",
              "    }\n",
              "\n",
              "    .dataframe thead th {\n",
              "        text-align: right;\n",
              "    }\n",
              "</style>\n",
              "<table border=\"1\" class=\"dataframe\">\n",
              "  <thead>\n",
              "    <tr style=\"text-align: right;\">\n",
              "      <th></th>\n",
              "      <th>TELEFONO</th>\n",
              "      <th>CUOTA_BASICA</th>\n",
              "      <th>TIPO_PRODUCTO</th>\n",
              "      <th>CAPACIDAD_PLAN_DATOS</th>\n",
              "      <th>NIT</th>\n",
              "      <th>ANEXOS_HOME</th>\n",
              "      <th>ANEXOS_MOBILE</th>\n",
              "      <th>MESES_CLIENTE_ANTIGUEDAD</th>\n",
              "      <th>MESES_CONTRATO</th>\n",
              "      <th>DEPARTAMENTO_GUATEMALA</th>\n",
              "      <th>INICIO_DE_CONTRATO</th>\n",
              "      <th>SUBSIDIO</th>\n",
              "      <th>PAGO_DEVICE_CLIENTE</th>\n",
              "      <th>PROMEDIO_CONSUMO_DATOS_GB</th>\n",
              "      <th>CONSUMO_PORCENT_CUOTA</th>\n",
              "      <th>FACTURAS_PAGADAS_EN_TIEMPO</th>\n",
              "      <th>FACTURAS_PAGADAS_TARDE</th>\n",
              "      <th>CANTIDAD_ABONOS_PARA_PAGAR_AVG</th>\n",
              "      <th>AVG_DIAS_PAGO_A_TIEMPO</th>\n",
              "      <th>AVG_DIAS_PAGO_TARDE</th>\n",
              "      <th>DOWNSELL</th>\n",
              "    </tr>\n",
              "  </thead>\n",
              "  <tbody>\n",
              "    <tr>\n",
              "      <th>0</th>\n",
              "      <td>52017983</td>\n",
              "      <td>198.9904</td>\n",
              "      <td>C</td>\n",
              "      <td>5</td>\n",
              "      <td>153912-4</td>\n",
              "      <td>0.0</td>\n",
              "      <td>1.0</td>\n",
              "      <td>246.0</td>\n",
              "      <td>18.0</td>\n",
              "      <td>GUATEMALA</td>\n",
              "      <td>06-OCT-16 00:00:00</td>\n",
              "      <td>NaN</td>\n",
              "      <td>NaN</td>\n",
              "      <td>1.0</td>\n",
              "      <td>0.18</td>\n",
              "      <td>0.0</td>\n",
              "      <td>10.0</td>\n",
              "      <td>1.0</td>\n",
              "      <td>0.0</td>\n",
              "      <td>-4.0</td>\n",
              "      <td>NO</td>\n",
              "    </tr>\n",
              "    <tr>\n",
              "      <th>1</th>\n",
              "      <td>55287011</td>\n",
              "      <td>499.0048</td>\n",
              "      <td>C</td>\n",
              "      <td>20</td>\n",
              "      <td>4930230-2</td>\n",
              "      <td>3.0</td>\n",
              "      <td>2.0</td>\n",
              "      <td>200.0</td>\n",
              "      <td>24.0</td>\n",
              "      <td>ESCUINTLA</td>\n",
              "      <td>07-JAN-19 00:00:00</td>\n",
              "      <td>3042.17</td>\n",
              "      <td>1607.14</td>\n",
              "      <td>10.0</td>\n",
              "      <td>0.51</td>\n",
              "      <td>8.0</td>\n",
              "      <td>2.0</td>\n",
              "      <td>1.0</td>\n",
              "      <td>2.0</td>\n",
              "      <td>-1.0</td>\n",
              "      <td>NO</td>\n",
              "    </tr>\n",
              "    <tr>\n",
              "      <th>2</th>\n",
              "      <td>53187495</td>\n",
              "      <td>298.9952</td>\n",
              "      <td>C</td>\n",
              "      <td>15</td>\n",
              "      <td>1199130-5</td>\n",
              "      <td>0.0</td>\n",
              "      <td>3.0</td>\n",
              "      <td>98.0</td>\n",
              "      <td>24.0</td>\n",
              "      <td>GUATEMALA</td>\n",
              "      <td>03-JAN-20 00:00:00</td>\n",
              "      <td>1237.57</td>\n",
              "      <td>207.36</td>\n",
              "      <td>5.0</td>\n",
              "      <td>0.33</td>\n",
              "      <td>10.0</td>\n",
              "      <td>0.0</td>\n",
              "      <td>1.0</td>\n",
              "      <td>8.0</td>\n",
              "      <td>0.0</td>\n",
              "      <td>NO</td>\n",
              "    </tr>\n",
              "    <tr>\n",
              "      <th>3</th>\n",
              "      <td>57813259</td>\n",
              "      <td>224.9968</td>\n",
              "      <td>Q</td>\n",
              "      <td>14</td>\n",
              "      <td>87103923</td>\n",
              "      <td>0.0</td>\n",
              "      <td>1.0</td>\n",
              "      <td>39.0</td>\n",
              "      <td>0.0</td>\n",
              "      <td>SOLOLA</td>\n",
              "      <td>21-AUG-20 00:00:00</td>\n",
              "      <td>NaN</td>\n",
              "      <td>NaN</td>\n",
              "      <td>18.0</td>\n",
              "      <td>1.29</td>\n",
              "      <td>4.0</td>\n",
              "      <td>4.0</td>\n",
              "      <td>1.0</td>\n",
              "      <td>17.0</td>\n",
              "      <td>-18.0</td>\n",
              "      <td>NO</td>\n",
              "    </tr>\n",
              "    <tr>\n",
              "      <th>4</th>\n",
              "      <td>40152016</td>\n",
              "      <td>298.9952</td>\n",
              "      <td>C</td>\n",
              "      <td>15</td>\n",
              "      <td>1526520-K</td>\n",
              "      <td>0.0</td>\n",
              "      <td>1.0</td>\n",
              "      <td>16.0</td>\n",
              "      <td>24.0</td>\n",
              "      <td>SAN MARCOS</td>\n",
              "      <td>15-NOV-19 00:00:00</td>\n",
              "      <td>1441.82</td>\n",
              "      <td>0.90</td>\n",
              "      <td>8.0</td>\n",
              "      <td>0.50</td>\n",
              "      <td>6.0</td>\n",
              "      <td>4.0</td>\n",
              "      <td>2.0</td>\n",
              "      <td>18.0</td>\n",
              "      <td>-5.0</td>\n",
              "      <td>NO</td>\n",
              "    </tr>\n",
              "  </tbody>\n",
              "</table>\n",
              "</div>"
            ],
            "text/plain": [
              "   TELEFONO  CUOTA_BASICA  ... AVG_DIAS_PAGO_TARDE  DOWNSELL\n",
              "0  52017983      198.9904  ...                -4.0        NO\n",
              "1  55287011      499.0048  ...                -1.0        NO\n",
              "2  53187495      298.9952  ...                 0.0        NO\n",
              "3  57813259      224.9968  ...               -18.0        NO\n",
              "4  40152016      298.9952  ...                -5.0        NO\n",
              "\n",
              "[5 rows x 21 columns]"
            ]
          },
          "metadata": {
            "tags": []
          },
          "execution_count": 77
        }
      ]
    },
    {
      "cell_type": "markdown",
      "metadata": {
        "id": "K_iuj_cFpA1L"
      },
      "source": [
        "**BORRAMOS LOS NA**"
      ]
    },
    {
      "cell_type": "code",
      "metadata": {
        "id": "nZnbznKZicfd"
      },
      "source": [
        "df_recortado = df.dropna()"
      ],
      "execution_count": 78,
      "outputs": []
    },
    {
      "cell_type": "markdown",
      "metadata": {
        "id": "1I4qnaHEpFly"
      },
      "source": [
        "**CONVERTTIMOS LA CLASE EN NUMERICA**"
      ]
    },
    {
      "cell_type": "code",
      "metadata": {
        "colab": {
          "base_uri": "https://localhost:8080/"
        },
        "id": "r7IZV7cci16z",
        "outputId": "431e6f12-b038-4e7c-e229-bc45389d51c7"
      },
      "source": [
        "df_recortado['DOWNSELL'].replace({\"NO\": 0, \"SI\": 1}, inplace=True)"
      ],
      "execution_count": 79,
      "outputs": [
        {
          "output_type": "stream",
          "text": [
            "/usr/local/lib/python3.7/dist-packages/pandas/core/series.py:4582: SettingWithCopyWarning:\n",
            "\n",
            "\n",
            "A value is trying to be set on a copy of a slice from a DataFrame\n",
            "\n",
            "See the caveats in the documentation: https://pandas.pydata.org/pandas-docs/stable/user_guide/indexing.html#returning-a-view-versus-a-copy\n",
            "\n"
          ],
          "name": "stderr"
        }
      ]
    },
    {
      "cell_type": "markdown",
      "metadata": {
        "id": "96qteEtdpQdk"
      },
      "source": [
        "**ELIMINAMOS LAS COLUMNAS TELEFONO, NIT, e INICIO_DE_CONTRATO**"
      ]
    },
    {
      "cell_type": "code",
      "metadata": {
        "id": "tm0xAQ_MoQ_d"
      },
      "source": [
        "df_recortado = df_recortado.drop(['TELEFONO','NIT','INICIO_DE_CONTRATO'], axis=1)"
      ],
      "execution_count": 80,
      "outputs": []
    },
    {
      "cell_type": "markdown",
      "metadata": {
        "id": "ZVVcNsh9pXt8"
      },
      "source": [
        ""
      ]
    },
    {
      "cell_type": "code",
      "metadata": {
        "colab": {
          "base_uri": "https://localhost:8080/"
        },
        "id": "88KyyiO_pYoM",
        "outputId": "66429f2e-321a-489f-bc83-f4483e1699e3"
      },
      "source": [
        "df_recortado.info()"
      ],
      "execution_count": 81,
      "outputs": [
        {
          "output_type": "stream",
          "text": [
            "<class 'pandas.core.frame.DataFrame'>\n",
            "Int64Index: 10157 entries, 1 to 17466\n",
            "Data columns (total 18 columns):\n",
            " #   Column                          Non-Null Count  Dtype  \n",
            "---  ------                          --------------  -----  \n",
            " 0   CUOTA_BASICA                    10157 non-null  float64\n",
            " 1   TIPO_PRODUCTO                   10157 non-null  object \n",
            " 2   CAPACIDAD_PLAN_DATOS            10157 non-null  int64  \n",
            " 3   ANEXOS_HOME                     10157 non-null  float64\n",
            " 4   ANEXOS_MOBILE                   10157 non-null  float64\n",
            " 5   MESES_CLIENTE_ANTIGUEDAD        10157 non-null  float64\n",
            " 6   MESES_CONTRATO                  10157 non-null  float64\n",
            " 7   DEPARTAMENTO_GUATEMALA          10157 non-null  object \n",
            " 8   SUBSIDIO                        10157 non-null  float64\n",
            " 9   PAGO_DEVICE_CLIENTE             10157 non-null  float64\n",
            " 10  PROMEDIO_CONSUMO_DATOS_GB       10157 non-null  float64\n",
            " 11  CONSUMO_PORCENT_CUOTA           10157 non-null  float64\n",
            " 12  FACTURAS_PAGADAS_EN_TIEMPO      10157 non-null  float64\n",
            " 13  FACTURAS_PAGADAS_TARDE          10157 non-null  float64\n",
            " 14  CANTIDAD_ABONOS_PARA_PAGAR_AVG  10157 non-null  float64\n",
            " 15  AVG_DIAS_PAGO_A_TIEMPO          10157 non-null  float64\n",
            " 16  AVG_DIAS_PAGO_TARDE             10157 non-null  float64\n",
            " 17  DOWNSELL                        10157 non-null  int64  \n",
            "dtypes: float64(14), int64(2), object(2)\n",
            "memory usage: 1.5+ MB\n"
          ],
          "name": "stdout"
        }
      ]
    },
    {
      "cell_type": "code",
      "metadata": {
        "id": "jM9gBVDiptIP"
      },
      "source": [
        ""
      ],
      "execution_count": 81,
      "outputs": []
    },
    {
      "cell_type": "markdown",
      "metadata": {
        "id": "gUBsC3TFpthE"
      },
      "source": [
        "##2.PREPROCESING"
      ]
    },
    {
      "cell_type": "markdown",
      "metadata": {
        "id": "U0TF0Hi6qFg2"
      },
      "source": [
        "**Utilizamos ONE HOT ENCODE PARA EL TIPO DE PRODUCTO**"
      ]
    },
    {
      "cell_type": "code",
      "metadata": {
        "colab": {
          "base_uri": "https://localhost:8080/"
        },
        "id": "nsFIV7RSrEEZ",
        "outputId": "8ec6d9bc-b978-4740-e45f-ee74a1201689"
      },
      "source": [
        "!pip install category_encoders"
      ],
      "execution_count": 82,
      "outputs": [
        {
          "output_type": "stream",
          "text": [
            "Requirement already satisfied: category_encoders in /usr/local/lib/python3.7/dist-packages (2.2.2)\n",
            "Requirement already satisfied: patsy>=0.5.1 in /usr/local/lib/python3.7/dist-packages (from category_encoders) (0.5.1)\n",
            "Requirement already satisfied: scikit-learn>=0.20.0 in /usr/local/lib/python3.7/dist-packages (from category_encoders) (0.22.2.post1)\n",
            "Requirement already satisfied: pandas>=0.21.1 in /usr/local/lib/python3.7/dist-packages (from category_encoders) (1.1.5)\n",
            "Requirement already satisfied: numpy>=1.14.0 in /usr/local/lib/python3.7/dist-packages (from category_encoders) (1.19.5)\n",
            "Requirement already satisfied: statsmodels>=0.9.0 in /usr/local/lib/python3.7/dist-packages (from category_encoders) (0.10.2)\n",
            "Requirement already satisfied: scipy>=1.0.0 in /usr/local/lib/python3.7/dist-packages (from category_encoders) (1.4.1)\n",
            "Requirement already satisfied: six in /usr/local/lib/python3.7/dist-packages (from patsy>=0.5.1->category_encoders) (1.15.0)\n",
            "Requirement already satisfied: joblib>=0.11 in /usr/local/lib/python3.7/dist-packages (from scikit-learn>=0.20.0->category_encoders) (1.0.1)\n",
            "Requirement already satisfied: python-dateutil>=2.7.3 in /usr/local/lib/python3.7/dist-packages (from pandas>=0.21.1->category_encoders) (2.8.1)\n",
            "Requirement already satisfied: pytz>=2017.2 in /usr/local/lib/python3.7/dist-packages (from pandas>=0.21.1->category_encoders) (2018.9)\n"
          ],
          "name": "stdout"
        }
      ]
    },
    {
      "cell_type": "code",
      "metadata": {
        "id": "ZYZLNFgRpvJ1"
      },
      "source": [
        "from category_encoders import OneHotEncoder"
      ],
      "execution_count": 83,
      "outputs": []
    },
    {
      "cell_type": "code",
      "metadata": {
        "colab": {
          "base_uri": "https://localhost:8080/"
        },
        "id": "niPMC7jzpvv0",
        "outputId": "d26c677c-cc0d-4d52-eb84-8e70ec0cdb3e"
      },
      "source": [
        "onehot_enc = OneHotEncoder( use_cat_names=True)\n",
        "df_train_tipoprod = onehot_enc.fit_transform(df_recortado['TIPO_PRODUCTO'])\n",
        "df_recortado = pd.concat([df_recortado, df_train_tipoprod], axis=1)\n"
      ],
      "execution_count": 84,
      "outputs": [
        {
          "output_type": "stream",
          "text": [
            "/usr/local/lib/python3.7/dist-packages/category_encoders/utils.py:21: FutureWarning:\n",
            "\n",
            "is_categorical is deprecated and will be removed in a future version.  Use is_categorical_dtype instead\n",
            "\n"
          ],
          "name": "stderr"
        }
      ]
    },
    {
      "cell_type": "code",
      "metadata": {
        "colab": {
          "base_uri": "https://localhost:8080/",
          "height": 316
        },
        "id": "F7p7U8CPpwKN",
        "outputId": "d022b838-580f-4761-f8a5-294d9230758e"
      },
      "source": [
        "df_recortado = df_recortado.drop(['TIPO_PRODUCTO'], axis=1)"
      ],
      "execution_count": 88,
      "outputs": [
        {
          "output_type": "error",
          "ename": "KeyError",
          "evalue": "ignored",
          "traceback": [
            "\u001b[0;31m---------------------------------------------------------------------------\u001b[0m",
            "\u001b[0;31mKeyError\u001b[0m                                  Traceback (most recent call last)",
            "\u001b[0;32m<ipython-input-88-5a0f2f74eb39>\u001b[0m in \u001b[0;36m<module>\u001b[0;34m()\u001b[0m\n\u001b[0;32m----> 1\u001b[0;31m \u001b[0mdf_recortado\u001b[0m \u001b[0;34m=\u001b[0m \u001b[0mdf_recortado\u001b[0m\u001b[0;34m.\u001b[0m\u001b[0mdrop\u001b[0m\u001b[0;34m(\u001b[0m\u001b[0;34m[\u001b[0m\u001b[0;34m'TIPO_PRODUCTO'\u001b[0m\u001b[0;34m]\u001b[0m\u001b[0;34m,\u001b[0m \u001b[0maxis\u001b[0m\u001b[0;34m=\u001b[0m\u001b[0;36m1\u001b[0m\u001b[0;34m)\u001b[0m\u001b[0;34m\u001b[0m\u001b[0;34m\u001b[0m\u001b[0m\n\u001b[0m",
            "\u001b[0;32m/usr/local/lib/python3.7/dist-packages/pandas/core/frame.py\u001b[0m in \u001b[0;36mdrop\u001b[0;34m(self, labels, axis, index, columns, level, inplace, errors)\u001b[0m\n\u001b[1;32m   4172\u001b[0m             \u001b[0mlevel\u001b[0m\u001b[0;34m=\u001b[0m\u001b[0mlevel\u001b[0m\u001b[0;34m,\u001b[0m\u001b[0;34m\u001b[0m\u001b[0;34m\u001b[0m\u001b[0m\n\u001b[1;32m   4173\u001b[0m             \u001b[0minplace\u001b[0m\u001b[0;34m=\u001b[0m\u001b[0minplace\u001b[0m\u001b[0;34m,\u001b[0m\u001b[0;34m\u001b[0m\u001b[0;34m\u001b[0m\u001b[0m\n\u001b[0;32m-> 4174\u001b[0;31m             \u001b[0merrors\u001b[0m\u001b[0;34m=\u001b[0m\u001b[0merrors\u001b[0m\u001b[0;34m,\u001b[0m\u001b[0;34m\u001b[0m\u001b[0;34m\u001b[0m\u001b[0m\n\u001b[0m\u001b[1;32m   4175\u001b[0m         )\n\u001b[1;32m   4176\u001b[0m \u001b[0;34m\u001b[0m\u001b[0m\n",
            "\u001b[0;32m/usr/local/lib/python3.7/dist-packages/pandas/core/generic.py\u001b[0m in \u001b[0;36mdrop\u001b[0;34m(self, labels, axis, index, columns, level, inplace, errors)\u001b[0m\n\u001b[1;32m   3887\u001b[0m         \u001b[0;32mfor\u001b[0m \u001b[0maxis\u001b[0m\u001b[0;34m,\u001b[0m \u001b[0mlabels\u001b[0m \u001b[0;32min\u001b[0m \u001b[0maxes\u001b[0m\u001b[0;34m.\u001b[0m\u001b[0mitems\u001b[0m\u001b[0;34m(\u001b[0m\u001b[0;34m)\u001b[0m\u001b[0;34m:\u001b[0m\u001b[0;34m\u001b[0m\u001b[0;34m\u001b[0m\u001b[0m\n\u001b[1;32m   3888\u001b[0m             \u001b[0;32mif\u001b[0m \u001b[0mlabels\u001b[0m \u001b[0;32mis\u001b[0m \u001b[0;32mnot\u001b[0m \u001b[0;32mNone\u001b[0m\u001b[0;34m:\u001b[0m\u001b[0;34m\u001b[0m\u001b[0;34m\u001b[0m\u001b[0m\n\u001b[0;32m-> 3889\u001b[0;31m                 \u001b[0mobj\u001b[0m \u001b[0;34m=\u001b[0m \u001b[0mobj\u001b[0m\u001b[0;34m.\u001b[0m\u001b[0m_drop_axis\u001b[0m\u001b[0;34m(\u001b[0m\u001b[0mlabels\u001b[0m\u001b[0;34m,\u001b[0m \u001b[0maxis\u001b[0m\u001b[0;34m,\u001b[0m \u001b[0mlevel\u001b[0m\u001b[0;34m=\u001b[0m\u001b[0mlevel\u001b[0m\u001b[0;34m,\u001b[0m \u001b[0merrors\u001b[0m\u001b[0;34m=\u001b[0m\u001b[0merrors\u001b[0m\u001b[0;34m)\u001b[0m\u001b[0;34m\u001b[0m\u001b[0;34m\u001b[0m\u001b[0m\n\u001b[0m\u001b[1;32m   3890\u001b[0m \u001b[0;34m\u001b[0m\u001b[0m\n\u001b[1;32m   3891\u001b[0m         \u001b[0;32mif\u001b[0m \u001b[0minplace\u001b[0m\u001b[0;34m:\u001b[0m\u001b[0;34m\u001b[0m\u001b[0;34m\u001b[0m\u001b[0m\n",
            "\u001b[0;32m/usr/local/lib/python3.7/dist-packages/pandas/core/generic.py\u001b[0m in \u001b[0;36m_drop_axis\u001b[0;34m(self, labels, axis, level, errors)\u001b[0m\n\u001b[1;32m   3921\u001b[0m                 \u001b[0mnew_axis\u001b[0m \u001b[0;34m=\u001b[0m \u001b[0maxis\u001b[0m\u001b[0;34m.\u001b[0m\u001b[0mdrop\u001b[0m\u001b[0;34m(\u001b[0m\u001b[0mlabels\u001b[0m\u001b[0;34m,\u001b[0m \u001b[0mlevel\u001b[0m\u001b[0;34m=\u001b[0m\u001b[0mlevel\u001b[0m\u001b[0;34m,\u001b[0m \u001b[0merrors\u001b[0m\u001b[0;34m=\u001b[0m\u001b[0merrors\u001b[0m\u001b[0;34m)\u001b[0m\u001b[0;34m\u001b[0m\u001b[0;34m\u001b[0m\u001b[0m\n\u001b[1;32m   3922\u001b[0m             \u001b[0;32melse\u001b[0m\u001b[0;34m:\u001b[0m\u001b[0;34m\u001b[0m\u001b[0;34m\u001b[0m\u001b[0m\n\u001b[0;32m-> 3923\u001b[0;31m                 \u001b[0mnew_axis\u001b[0m \u001b[0;34m=\u001b[0m \u001b[0maxis\u001b[0m\u001b[0;34m.\u001b[0m\u001b[0mdrop\u001b[0m\u001b[0;34m(\u001b[0m\u001b[0mlabels\u001b[0m\u001b[0;34m,\u001b[0m \u001b[0merrors\u001b[0m\u001b[0;34m=\u001b[0m\u001b[0merrors\u001b[0m\u001b[0;34m)\u001b[0m\u001b[0;34m\u001b[0m\u001b[0;34m\u001b[0m\u001b[0m\n\u001b[0m\u001b[1;32m   3924\u001b[0m             \u001b[0mresult\u001b[0m \u001b[0;34m=\u001b[0m \u001b[0mself\u001b[0m\u001b[0;34m.\u001b[0m\u001b[0mreindex\u001b[0m\u001b[0;34m(\u001b[0m\u001b[0;34m**\u001b[0m\u001b[0;34m{\u001b[0m\u001b[0maxis_name\u001b[0m\u001b[0;34m:\u001b[0m \u001b[0mnew_axis\u001b[0m\u001b[0;34m}\u001b[0m\u001b[0;34m)\u001b[0m\u001b[0;34m\u001b[0m\u001b[0;34m\u001b[0m\u001b[0m\n\u001b[1;32m   3925\u001b[0m \u001b[0;34m\u001b[0m\u001b[0m\n",
            "\u001b[0;32m/usr/local/lib/python3.7/dist-packages/pandas/core/indexes/base.py\u001b[0m in \u001b[0;36mdrop\u001b[0;34m(self, labels, errors)\u001b[0m\n\u001b[1;32m   5285\u001b[0m         \u001b[0;32mif\u001b[0m \u001b[0mmask\u001b[0m\u001b[0;34m.\u001b[0m\u001b[0many\u001b[0m\u001b[0;34m(\u001b[0m\u001b[0;34m)\u001b[0m\u001b[0;34m:\u001b[0m\u001b[0;34m\u001b[0m\u001b[0;34m\u001b[0m\u001b[0m\n\u001b[1;32m   5286\u001b[0m             \u001b[0;32mif\u001b[0m \u001b[0merrors\u001b[0m \u001b[0;34m!=\u001b[0m \u001b[0;34m\"ignore\"\u001b[0m\u001b[0;34m:\u001b[0m\u001b[0;34m\u001b[0m\u001b[0;34m\u001b[0m\u001b[0m\n\u001b[0;32m-> 5287\u001b[0;31m                 \u001b[0;32mraise\u001b[0m \u001b[0mKeyError\u001b[0m\u001b[0;34m(\u001b[0m\u001b[0;34mf\"{labels[mask]} not found in axis\"\u001b[0m\u001b[0;34m)\u001b[0m\u001b[0;34m\u001b[0m\u001b[0;34m\u001b[0m\u001b[0m\n\u001b[0m\u001b[1;32m   5288\u001b[0m             \u001b[0mindexer\u001b[0m \u001b[0;34m=\u001b[0m \u001b[0mindexer\u001b[0m\u001b[0;34m[\u001b[0m\u001b[0;34m~\u001b[0m\u001b[0mmask\u001b[0m\u001b[0;34m]\u001b[0m\u001b[0;34m\u001b[0m\u001b[0;34m\u001b[0m\u001b[0m\n\u001b[1;32m   5289\u001b[0m         \u001b[0;32mreturn\u001b[0m \u001b[0mself\u001b[0m\u001b[0;34m.\u001b[0m\u001b[0mdelete\u001b[0m\u001b[0;34m(\u001b[0m\u001b[0mindexer\u001b[0m\u001b[0;34m)\u001b[0m\u001b[0;34m\u001b[0m\u001b[0;34m\u001b[0m\u001b[0m\n",
            "\u001b[0;31mKeyError\u001b[0m: \"['TIPO_PRODUCTO'] not found in axis\""
          ]
        }
      ]
    },
    {
      "cell_type": "code",
      "metadata": {
        "colab": {
          "base_uri": "https://localhost:8080/"
        },
        "id": "mwGFmo2vsxRT",
        "outputId": "6f948054-c6a2-44cb-bc82-578bc4ccb643"
      },
      "source": [
        ""
      ],
      "execution_count": 86,
      "outputs": [
        {
          "output_type": "stream",
          "text": [
            "<class 'pandas.core.frame.DataFrame'>\n",
            "Int64Index: 10157 entries, 1 to 17466\n",
            "Data columns (total 20 columns):\n",
            " #   Column                          Non-Null Count  Dtype  \n",
            "---  ------                          --------------  -----  \n",
            " 0   CUOTA_BASICA                    10157 non-null  float64\n",
            " 1   CAPACIDAD_PLAN_DATOS            10157 non-null  int64  \n",
            " 2   ANEXOS_HOME                     10157 non-null  float64\n",
            " 3   ANEXOS_MOBILE                   10157 non-null  float64\n",
            " 4   MESES_CLIENTE_ANTIGUEDAD        10157 non-null  float64\n",
            " 5   MESES_CONTRATO                  10157 non-null  float64\n",
            " 6   DEPARTAMENTO_GUATEMALA          10157 non-null  object \n",
            " 7   SUBSIDIO                        10157 non-null  float64\n",
            " 8   PAGO_DEVICE_CLIENTE             10157 non-null  float64\n",
            " 9   PROMEDIO_CONSUMO_DATOS_GB       10157 non-null  float64\n",
            " 10  CONSUMO_PORCENT_CUOTA           10157 non-null  float64\n",
            " 11  FACTURAS_PAGADAS_EN_TIEMPO      10157 non-null  float64\n",
            " 12  FACTURAS_PAGADAS_TARDE          10157 non-null  float64\n",
            " 13  CANTIDAD_ABONOS_PARA_PAGAR_AVG  10157 non-null  float64\n",
            " 14  AVG_DIAS_PAGO_A_TIEMPO          10157 non-null  float64\n",
            " 15  AVG_DIAS_PAGO_TARDE             10157 non-null  float64\n",
            " 16  DOWNSELL                        10157 non-null  int64  \n",
            " 17  TIPO_PRODUCTO_C                 10157 non-null  int64  \n",
            " 18  TIPO_PRODUCTO_A                 10157 non-null  int64  \n",
            " 19  TIPO_PRODUCTO_Q                 10157 non-null  int64  \n",
            "dtypes: float64(14), int64(5), object(1)\n",
            "memory usage: 1.6+ MB\n"
          ],
          "name": "stdout"
        }
      ]
    },
    {
      "cell_type": "markdown",
      "metadata": {
        "id": "eGVC-dcUta2Y"
      },
      "source": [
        "**Utlilizamos en Frequency para el conteo de Departamentos**"
      ]
    },
    {
      "cell_type": "code",
      "metadata": {
        "colab": {
          "base_uri": "https://localhost:8080/"
        },
        "id": "BB0KoFm6tVCB",
        "outputId": "33d3ebc0-dd17-46ed-faed-26caa92283fa"
      },
      "source": [
        "from category_encoders import CountEncoder\n",
        "count_enc_depto = CountEncoder( combine_min_nan_groups=True, min_group_size=35,min_group_name='OTROS')\n",
        "df_recortado['DEPARTAMENTO_TRANS'] = count_enc_depto.fit_transform(df_recortado['DEPARTAMENTO_GUATEMALA'])\n"
      ],
      "execution_count": 87,
      "outputs": [
        {
          "output_type": "stream",
          "text": [
            "<class 'pandas.core.frame.DataFrame'>\n",
            "Int64Index: 10157 entries, 1 to 17466\n",
            "Data columns (total 21 columns):\n",
            " #   Column                          Non-Null Count  Dtype  \n",
            "---  ------                          --------------  -----  \n",
            " 0   CUOTA_BASICA                    10157 non-null  float64\n",
            " 1   CAPACIDAD_PLAN_DATOS            10157 non-null  int64  \n",
            " 2   ANEXOS_HOME                     10157 non-null  float64\n",
            " 3   ANEXOS_MOBILE                   10157 non-null  float64\n",
            " 4   MESES_CLIENTE_ANTIGUEDAD        10157 non-null  float64\n",
            " 5   MESES_CONTRATO                  10157 non-null  float64\n",
            " 6   DEPARTAMENTO_GUATEMALA          10157 non-null  object \n",
            " 7   SUBSIDIO                        10157 non-null  float64\n",
            " 8   PAGO_DEVICE_CLIENTE             10157 non-null  float64\n",
            " 9   PROMEDIO_CONSUMO_DATOS_GB       10157 non-null  float64\n",
            " 10  CONSUMO_PORCENT_CUOTA           10157 non-null  float64\n",
            " 11  FACTURAS_PAGADAS_EN_TIEMPO      10157 non-null  float64\n",
            " 12  FACTURAS_PAGADAS_TARDE          10157 non-null  float64\n",
            " 13  CANTIDAD_ABONOS_PARA_PAGAR_AVG  10157 non-null  float64\n",
            " 14  AVG_DIAS_PAGO_A_TIEMPO          10157 non-null  float64\n",
            " 15  AVG_DIAS_PAGO_TARDE             10157 non-null  float64\n",
            " 16  DOWNSELL                        10157 non-null  int64  \n",
            " 17  TIPO_PRODUCTO_C                 10157 non-null  int64  \n",
            " 18  TIPO_PRODUCTO_A                 10157 non-null  int64  \n",
            " 19  TIPO_PRODUCTO_Q                 10157 non-null  int64  \n",
            " 20  DEPARTAMENTO_TRANS              10157 non-null  int64  \n",
            "dtypes: float64(14), int64(6), object(1)\n",
            "memory usage: 1.7+ MB\n"
          ],
          "name": "stdout"
        }
      ]
    },
    {
      "cell_type": "code",
      "metadata": {
        "colab": {
          "base_uri": "https://localhost:8080/"
        },
        "id": "Q0woOyj0tqTp",
        "outputId": "bbd0c8d5-ffba-46eb-827c-4d8a77a60b57"
      },
      "source": [
        "df_recortado = df_recortado.drop(['DEPARTAMENTO_GUATEMALA'], axis=1)\n",
        "df_recortado.info()"
      ],
      "execution_count": 91,
      "outputs": [
        {
          "output_type": "stream",
          "text": [
            "<class 'pandas.core.frame.DataFrame'>\n",
            "Int64Index: 10157 entries, 1 to 17466\n",
            "Data columns (total 20 columns):\n",
            " #   Column                          Non-Null Count  Dtype  \n",
            "---  ------                          --------------  -----  \n",
            " 0   CUOTA_BASICA                    10157 non-null  float64\n",
            " 1   CAPACIDAD_PLAN_DATOS            10157 non-null  int64  \n",
            " 2   ANEXOS_HOME                     10157 non-null  float64\n",
            " 3   ANEXOS_MOBILE                   10157 non-null  float64\n",
            " 4   MESES_CLIENTE_ANTIGUEDAD        10157 non-null  float64\n",
            " 5   MESES_CONTRATO                  10157 non-null  float64\n",
            " 6   SUBSIDIO                        10157 non-null  float64\n",
            " 7   PAGO_DEVICE_CLIENTE             10157 non-null  float64\n",
            " 8   PROMEDIO_CONSUMO_DATOS_GB       10157 non-null  float64\n",
            " 9   CONSUMO_PORCENT_CUOTA           10157 non-null  float64\n",
            " 10  FACTURAS_PAGADAS_EN_TIEMPO      10157 non-null  float64\n",
            " 11  FACTURAS_PAGADAS_TARDE          10157 non-null  float64\n",
            " 12  CANTIDAD_ABONOS_PARA_PAGAR_AVG  10157 non-null  float64\n",
            " 13  AVG_DIAS_PAGO_A_TIEMPO          10157 non-null  float64\n",
            " 14  AVG_DIAS_PAGO_TARDE             10157 non-null  float64\n",
            " 15  DOWNSELL                        10157 non-null  int64  \n",
            " 16  TIPO_PRODUCTO_C                 10157 non-null  int64  \n",
            " 17  TIPO_PRODUCTO_A                 10157 non-null  int64  \n",
            " 18  TIPO_PRODUCTO_Q                 10157 non-null  int64  \n",
            " 19  DEPARTAMENTO_TRANS              10157 non-null  int64  \n",
            "dtypes: float64(14), int64(6)\n",
            "memory usage: 1.6 MB\n"
          ],
          "name": "stdout"
        }
      ]
    },
    {
      "cell_type": "code",
      "metadata": {
        "id": "TPiPshrBtquR"
      },
      "source": [
        ""
      ],
      "execution_count": null,
      "outputs": []
    },
    {
      "cell_type": "code",
      "metadata": {
        "id": "9g43qLsmmMXt"
      },
      "source": [
        "from sklearn.model_selection import train_test_split"
      ],
      "execution_count": 17,
      "outputs": []
    },
    {
      "cell_type": "code",
      "metadata": {
        "colab": {
          "base_uri": "https://localhost:8080/",
          "height": 292
        },
        "id": "QwyJBSBtmNX7",
        "outputId": "0949013c-2d9d-436d-cf1d-03de85addfc7"
      },
      "source": [
        "X_train, X_test, y_train, y_test = train_test_split(X=df_recortado,y=df_recortado['DOWNSELL'],test_size =0.2,statify = df_recortado['DOWNSELL'])"
      ],
      "execution_count": 20,
      "outputs": [
        {
          "output_type": "error",
          "ename": "ValueError",
          "evalue": "ignored",
          "traceback": [
            "\u001b[0;31m---------------------------------------------------------------------------\u001b[0m",
            "\u001b[0;31mValueError\u001b[0m                                Traceback (most recent call last)",
            "\u001b[0;32m<ipython-input-20-e75e40e6fd41>\u001b[0m in \u001b[0;36m<module>\u001b[0;34m()\u001b[0m\n\u001b[0;32m----> 1\u001b[0;31m \u001b[0mX_train\u001b[0m\u001b[0;34m,\u001b[0m \u001b[0mX_test\u001b[0m\u001b[0;34m,\u001b[0m \u001b[0my_train\u001b[0m\u001b[0;34m,\u001b[0m \u001b[0my_test\u001b[0m \u001b[0;34m=\u001b[0m \u001b[0mtrain_test_split\u001b[0m\u001b[0;34m(\u001b[0m\u001b[0mX\u001b[0m\u001b[0;34m=\u001b[0m\u001b[0mdf_recortado\u001b[0m\u001b[0;34m,\u001b[0m\u001b[0my\u001b[0m\u001b[0;34m=\u001b[0m\u001b[0mdf_recortado\u001b[0m\u001b[0;34m[\u001b[0m\u001b[0;34m'DOWNSELL'\u001b[0m\u001b[0;34m]\u001b[0m\u001b[0;34m,\u001b[0m\u001b[0mtest_size\u001b[0m \u001b[0;34m=\u001b[0m\u001b[0;36m0.2\u001b[0m\u001b[0;34m,\u001b[0m\u001b[0mstatify\u001b[0m \u001b[0;34m=\u001b[0m \u001b[0mdf_recortado\u001b[0m\u001b[0;34m[\u001b[0m\u001b[0;34m'DOWNSELL'\u001b[0m\u001b[0;34m]\u001b[0m\u001b[0;34m)\u001b[0m\u001b[0;34m\u001b[0m\u001b[0;34m\u001b[0m\u001b[0m\n\u001b[0m",
            "\u001b[0;32m/usr/local/lib/python3.7/dist-packages/sklearn/model_selection/_split.py\u001b[0m in \u001b[0;36mtrain_test_split\u001b[0;34m(*arrays, **options)\u001b[0m\n\u001b[1;32m   2106\u001b[0m     \u001b[0mn_arrays\u001b[0m \u001b[0;34m=\u001b[0m \u001b[0mlen\u001b[0m\u001b[0;34m(\u001b[0m\u001b[0marrays\u001b[0m\u001b[0;34m)\u001b[0m\u001b[0;34m\u001b[0m\u001b[0;34m\u001b[0m\u001b[0m\n\u001b[1;32m   2107\u001b[0m     \u001b[0;32mif\u001b[0m \u001b[0mn_arrays\u001b[0m \u001b[0;34m==\u001b[0m \u001b[0;36m0\u001b[0m\u001b[0;34m:\u001b[0m\u001b[0;34m\u001b[0m\u001b[0;34m\u001b[0m\u001b[0m\n\u001b[0;32m-> 2108\u001b[0;31m         \u001b[0;32mraise\u001b[0m \u001b[0mValueError\u001b[0m\u001b[0;34m(\u001b[0m\u001b[0;34m\"At least one array required as input\"\u001b[0m\u001b[0;34m)\u001b[0m\u001b[0;34m\u001b[0m\u001b[0;34m\u001b[0m\u001b[0m\n\u001b[0m\u001b[1;32m   2109\u001b[0m     \u001b[0mtest_size\u001b[0m \u001b[0;34m=\u001b[0m \u001b[0moptions\u001b[0m\u001b[0;34m.\u001b[0m\u001b[0mpop\u001b[0m\u001b[0;34m(\u001b[0m\u001b[0;34m'test_size'\u001b[0m\u001b[0;34m,\u001b[0m \u001b[0;32mNone\u001b[0m\u001b[0;34m)\u001b[0m\u001b[0;34m\u001b[0m\u001b[0;34m\u001b[0m\u001b[0m\n\u001b[1;32m   2110\u001b[0m     \u001b[0mtrain_size\u001b[0m \u001b[0;34m=\u001b[0m \u001b[0moptions\u001b[0m\u001b[0;34m.\u001b[0m\u001b[0mpop\u001b[0m\u001b[0;34m(\u001b[0m\u001b[0;34m'train_size'\u001b[0m\u001b[0;34m,\u001b[0m \u001b[0;32mNone\u001b[0m\u001b[0;34m)\u001b[0m\u001b[0;34m\u001b[0m\u001b[0;34m\u001b[0m\u001b[0m\n",
            "\u001b[0;31mValueError\u001b[0m: At least one array required as input"
          ]
        }
      ]
    }
  ]
}